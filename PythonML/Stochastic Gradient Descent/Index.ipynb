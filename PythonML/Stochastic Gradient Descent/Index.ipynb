{
 "cells": [
  {
   "cell_type": "markdown",
   "metadata": {},
   "source": [
    "## 随机梯度下降\n",
    "随机梯度下降法（SGD）是一种简单但非常有效的方法，可在凸损失函数（例如（线性）支持向量机和Logistic回归）下拟合线性分类器和回归器。尽管SGD在机器学习社区中已经存在很长时间了，但最近在大规模学习的背景下它已经引起了相当多的关注。\n",
    "\n",
    "SGD已成功应用于文本分类和自然语言处理中经常遇到的大规模和稀疏机器学习问题。考虑到数据稀疏，该模块中的分类器可以轻松解决超过10 ^ 5个训练示例和10 ^ 5个以上特征的问题。\n",
    "\n",
    "严格来说，SGD只是一种优化技术，并不对应于特定的机器学习模型系列。这只是训练模型的一种 方法。通常，scikit-learn API中的实例SGDClassifier或 SGDRegressor将具有等效估计量，可能使用其他优化技术\n",
    "\n",
    "随机梯度下降的优点是：\n",
    "\n",
    " - 效率。\n",
    "\n",
    " - 易于实施（很多代码调优机会）。\n",
    "\n",
    "随机梯度下降的缺点包括：\n",
    "\n",
    " - SGD需要许多超参数，例如正则化参数和迭代次数。\n",
    "\n",
    " - SGD对特征缩放很敏感\n",
    " \n",
    " ### 分类:SGDClassifier\n",
    " \n",
    "具有SGD训练的线性分类器（SVM，逻辑回归等）。\n",
    "\n",
    "该估计器通过随机梯度下降（SGD）学习实现正则化线性模型：一次估计每个样本的损失梯度，并以递减的强度进度表（又称学习率）对模型进行更新。SGD允许通过该partial_fit方法进行小批量（在线/核心外）学习。为了使用默认学习率计划获得最佳结果，数据应具有零均值和单位方差。\n",
    "\n",
    "此实现适用于表示为要素的浮点值的密集或稀疏数组的数据。可以使用损失参数控制适合的模型；默认情况下，它适合线性支持向量机（SVM）。\n",
    "\n",
    "正则化器是对损失函数的一种惩罚，它使用平方欧几里德范数L2或绝对范数L1或两者的组合（弹性网）将模型参数向零矢量收缩。如果由于正则化而使参数更新超过0.0值，则更新将被截断为0.0以允许学习稀疏模型并实现在线特征选择。\n",
    "\n",
    "### 回归:\n",
    "    。。。。。。"
   ]
  },
  {
   "cell_type": "code",
   "execution_count": 1,
   "metadata": {},
   "outputs": [
    {
     "name": "stdout",
     "output_type": "stream",
     "text": [
      "[1]\n"
     ]
    }
   ],
   "source": [
    "import numpy as np\n",
    "from sklearn.linear_model import SGDClassifier\n",
    "from sklearn.preprocessing import StandardScaler\n",
    "from sklearn.pipeline import make_pipeline\n",
    "X = np.array([[-1, -1], [-2, -1], [1, 1], [2, 1]])\n",
    "Y = np.array([1, 1, 2, 2])\n",
    "# Always scale the input. The most convenient way is to use a pipeline.\n",
    "clf = make_pipeline(StandardScaler(),\n",
    "                    SGDClassifier(max_iter=1000, tol=1e-3))\n",
    "clf.fit(X, Y)\n",
    "\n",
    "\n",
    "print(clf.predict([[-0.8, -1]]))"
   ]
  },
  {
   "cell_type": "code",
   "execution_count": null,
   "metadata": {},
   "outputs": [],
   "source": []
  }
 ],
 "metadata": {
  "kernelspec": {
   "display_name": "Python 3",
   "language": "python",
   "name": "python3"
  },
  "language_info": {
   "codemirror_mode": {
    "name": "ipython",
    "version": 3
   },
   "file_extension": ".py",
   "mimetype": "text/x-python",
   "name": "python",
   "nbconvert_exporter": "python",
   "pygments_lexer": "ipython3",
   "version": "3.8.3"
  }
 },
 "nbformat": 4,
 "nbformat_minor": 4
}
