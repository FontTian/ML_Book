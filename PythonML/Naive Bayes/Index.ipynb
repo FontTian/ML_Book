{
 "cells": [
  {
   "cell_type": "markdown",
   "metadata": {},
   "source": [
    "## Naive Bayes\n",
    "### GaussianNB\n",
    "高斯朴素贝叶斯（GaussianNB）\n",
    "\n",
    "**参数:**\n",
    " - priors:array-like of shape (n_classes,);该类的先验概率。如果指定，则先验数据不会根据数据进行调整。\n",
    " - var_smoothing:float, 默认=1e-9;所有特征的最大方差部分，已添加到方差中以提高计算稳定性。"
   ]
  },
  {
   "cell_type": "code",
   "execution_count": 2,
   "metadata": {},
   "outputs": [
    {
     "data": {
      "text/plain": [
       "GaussianNB(priors=None, var_smoothing=1e-09)"
      ]
     },
     "execution_count": 2,
     "metadata": {},
     "output_type": "execute_result"
    }
   ],
   "source": [
    "import numpy as np\n",
    "X = np.array([[-1, -1], [-2, -1], [-3, -2], [1, 1], [2, 1], [3, 2]])\n",
    "Y = np.array([1, 1, 1, 2, 2, 2])\n",
    "from sklearn.naive_bayes import GaussianNB\n",
    "clf = GaussianNB()\n",
    "clf.fit(X, Y)"
   ]
  },
  {
   "cell_type": "code",
   "execution_count": 3,
   "metadata": {},
   "outputs": [
    {
     "name": "stdout",
     "output_type": "stream",
     "text": [
      "[1]\n"
     ]
    }
   ],
   "source": [
    "print(clf.predict([[-0.8, -1]]))"
   ]
  },
  {
   "cell_type": "code",
   "execution_count": 4,
   "metadata": {},
   "outputs": [
    {
     "data": {
      "text/plain": [
       "GaussianNB(priors=None, var_smoothing=1e-09)"
      ]
     },
     "execution_count": 4,
     "metadata": {},
     "output_type": "execute_result"
    }
   ],
   "source": [
    "clf_pf = GaussianNB()\n",
    "clf_pf.partial_fit(X, Y, np.unique(Y))"
   ]
  },
  {
   "cell_type": "code",
   "execution_count": 5,
   "metadata": {},
   "outputs": [
    {
     "name": "stdout",
     "output_type": "stream",
     "text": [
      "[1]\n"
     ]
    }
   ],
   "source": [
    "print(clf_pf.predict([[-0.8, -1]]))"
   ]
  },
  {
   "cell_type": "markdown",
   "metadata": {},
   "source": [
    "### MultinomialNB\n",
    "\n",
    "朴素贝叶斯分类器用于多项模型\n",
    "\n",
    "多项式朴素贝叶斯分类器适用于具有离散特征的分类（例如，用于文本分类的字数统计）。多项式分布通常需要整数特征计数。但是，实际上，小数计数（例如tf-idf）也可能起作用。\n",
    "\n",
    "**参数:**\n",
    " - alpha:float, 默认=1.0;添加（拉普拉斯/利兹通）平滑参数（0表示不平滑）。\n",
    " - fit_prior:bool, 默认=True;是否学习类的先验概率。如果为False，将使用统一的先验。\n",
    " - class_prior:array-like of shape (n_classes,), 默认=None;该类的先验概率。如果指定，则先验数据不会根据数据进行调整。"
   ]
  },
  {
   "cell_type": "code",
   "execution_count": 6,
   "metadata": {},
   "outputs": [
    {
     "data": {
      "text/plain": [
       "MultinomialNB(alpha=1.0, class_prior=None, fit_prior=True)"
      ]
     },
     "execution_count": 6,
     "metadata": {},
     "output_type": "execute_result"
    }
   ],
   "source": [
    "import numpy as np\n",
    "rng = np.random.RandomState(1)\n",
    "X = rng.randint(5, size=(6, 100))\n",
    "y = np.array([1, 2, 3, 4, 5, 6])\n",
    "from sklearn.naive_bayes import MultinomialNB\n",
    "clf = MultinomialNB()\n",
    "clf.fit(X, y)"
   ]
  },
  {
   "cell_type": "code",
   "execution_count": 7,
   "metadata": {},
   "outputs": [
    {
     "name": "stdout",
     "output_type": "stream",
     "text": [
      "[3]\n"
     ]
    }
   ],
   "source": [
    "print(clf.predict(X[2:3]))"
   ]
  },
  {
   "cell_type": "markdown",
   "metadata": {},
   "source": [
    "### 补码朴素贝叶斯\n",
    "ComplementNB实现补码朴素贝叶斯（CNB）算法。CNB是标准多项式朴素贝叶斯（MNB）算法的改编，特别适合于不平衡数据集。具体来说，CNB使用来自每个类的补充的统计信息来计算模型的权重。CNB的发明人凭经验表明，CNB的参数估计比MNB的参数估计更稳定。此外，CNB在文本分类任务上通常胜过MNB（通常有相当大的优势）\n",
    "\n",
    "**参数:**\n",
    " - alpha:float, 默认=1.0;添加（拉普拉斯/利兹通）平滑参数（0表示不平滑）。\n",
    " - fit_prior:bool, 默认=True;仅在训练集中只有一个类的情况下使用.\n",
    " - class_prior:array-like of shape (n_classes,), 默认=None;该类的先验概率。不曾使用。\n",
    " - norm bool，默认= False；是否执行权重的第二标准化。默认行为反映了Mahout和Weka中的实现，这些实现未遵循本文表9中描述的完整算法。"
   ]
  },
  {
   "cell_type": "code",
   "execution_count": 8,
   "metadata": {},
   "outputs": [
    {
     "data": {
      "text/plain": [
       "ComplementNB(alpha=1.0, class_prior=None, fit_prior=True, norm=False)"
      ]
     },
     "execution_count": 8,
     "metadata": {},
     "output_type": "execute_result"
    }
   ],
   "source": [
    "import numpy as np\n",
    "rng = np.random.RandomState(1)\n",
    "X = rng.randint(5, size=(6, 100))\n",
    "y = np.array([1, 2, 3, 4, 5, 6])\n",
    "from sklearn.naive_bayes import ComplementNB\n",
    "clf = ComplementNB()\n",
    "clf.fit(X, y)"
   ]
  },
  {
   "cell_type": "code",
   "execution_count": 9,
   "metadata": {},
   "outputs": [
    {
     "name": "stdout",
     "output_type": "stream",
     "text": [
      "[3]\n"
     ]
    }
   ],
   "source": [
    "print(clf.predict(X[2:3]))"
   ]
  },
  {
   "cell_type": "markdown",
   "metadata": {},
   "source": [
    "## 伯努利朴素贝叶斯\n",
    "朴素贝叶斯分类器用于多元伯努利模型。像MultinomialNB一样，此分类器适用于离散数据。区别在于，虽然MultinomialNB可处理出现次数，但BernoulliNB是为二进制/布尔型功能而设计的。\n",
    "\n",
    "**参数:**\n",
    " - alpha:float, 默认=1.0;添加（拉普拉斯/利兹通）平滑参数（0表示不平滑）。\n",
    " - binarize：float or None, 默认为0.0；用于将样本特征二值化（映射为布尔值）的阈值。如果为None，则假定输入已经由二进制向量组成。\n",
    " - fit_prior:bool, 默认=True;是否学习类的先验概率。如果为False，将使用统一的先验。\n",
    " - class_prior:array-like of shape (n_classes,), 默认=None;该类的先验概率。如果指定，则先验数据不会根据数据进行调整。"
   ]
  },
  {
   "cell_type": "code",
   "execution_count": 12,
   "metadata": {},
   "outputs": [
    {
     "data": {
      "text/plain": [
       "BernoulliNB(alpha=1.0, binarize=0.0, class_prior=None, fit_prior=True)"
      ]
     },
     "execution_count": 12,
     "metadata": {},
     "output_type": "execute_result"
    }
   ],
   "source": [
    "import numpy as np\n",
    "rng = np.random.RandomState(1)\n",
    "X = rng.randint(5, size=(6, 100))\n",
    "Y = np.array([1, 2, 3, 4, 4, 5])\n",
    "from sklearn.naive_bayes import BernoulliNB\n",
    "clf = BernoulliNB()\n",
    "clf.fit(X, Y)"
   ]
  },
  {
   "cell_type": "code",
   "execution_count": 13,
   "metadata": {},
   "outputs": [
    {
     "name": "stdout",
     "output_type": "stream",
     "text": [
      "[3]\n"
     ]
    }
   ],
   "source": [
    "print(clf.predict(X[2:3]))"
   ]
  },
  {
   "cell_type": "markdown",
   "metadata": {},
   "source": [
    "## CategoricalNB\n",
    "朴素贝叶斯分类器的分类特征朴素贝叶斯分类器分类器适用于具有离散分布的离散特征的分类。每个要素的类别均来自分类分布。\n",
    "\n",
    "**参数:**\n",
    " - alpha:float, 默认=1.0;添加（拉普拉斯/利兹通）平滑参数（0表示不平滑）。\n",
    " - fit_prior:bool, 默认=True;是否学习类的先验概率。如果为False，将使用统一的先验。\n",
    " - class_prior:array-like of shape (n_classes,), 默认=None;该类的先验概率。如果指定，则先验数据不会根据数据进行调整。"
   ]
  },
  {
   "cell_type": "code",
   "execution_count": 10,
   "metadata": {},
   "outputs": [
    {
     "data": {
      "text/plain": [
       "CategoricalNB(alpha=1.0, class_prior=None, fit_prior=True)"
      ]
     },
     "execution_count": 10,
     "metadata": {},
     "output_type": "execute_result"
    }
   ],
   "source": [
    "import numpy as np\n",
    "rng = np.random.RandomState(1)\n",
    "X = rng.randint(5, size=(6, 100))\n",
    "y = np.array([1, 2, 3, 4, 5, 6])\n",
    "from sklearn.naive_bayes import CategoricalNB\n",
    "clf = CategoricalNB()\n",
    "clf.fit(X, y)"
   ]
  },
  {
   "cell_type": "code",
   "execution_count": 11,
   "metadata": {},
   "outputs": [
    {
     "name": "stdout",
     "output_type": "stream",
     "text": [
      "[3]\n"
     ]
    }
   ],
   "source": [
    "print(clf.predict(X[2:3]))"
   ]
  }
 ],
 "metadata": {
  "kernelspec": {
   "display_name": "Python 3",
   "language": "python",
   "name": "python3"
  },
  "language_info": {
   "codemirror_mode": {
    "name": "ipython",
    "version": 3
   },
   "file_extension": ".py",
   "mimetype": "text/x-python",
   "name": "python",
   "nbconvert_exporter": "python",
   "pygments_lexer": "ipython3",
   "version": "3.8.3"
  }
 },
 "nbformat": 4,
 "nbformat_minor": 4
}
