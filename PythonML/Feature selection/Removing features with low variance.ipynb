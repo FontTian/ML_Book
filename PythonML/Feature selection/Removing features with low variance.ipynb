{
 "cells": [
  {
   "cell_type": "markdown",
   "metadata": {},
   "source": [
    "## 方差特征选择的原理与使用\n",
    "VarianceThreshold 是特征选择的一个简单基本方法,其原理在于--底方差的特征的预测效果往往不好。而VarianceThreshold会移除所有那些方差不满足一些阈值的特征。默认情况下，它将会移除所有的零方差特征，即那些在所有的样本上的取值均不变的特征。\n",
    "\n",
    "例如，假设我们有一个特征是布尔值的数据集，我们想要移除那些在整个数据集中特征值为0或者为1的比例超过80%的特征。布尔特征是伯努利（ Bernoulli ）随机变量，变量的方差为\n",
    "\n",
    "`\n",
    "Var[X] = p(1-p)\n",
    "`\n",
    "\n",
    "因此,我们可以使用阈值`.8*(1-.8)`进行选择:"
   ]
  },
  {
   "cell_type": "code",
   "execution_count": 1,
   "metadata": {},
   "outputs": [
    {
     "name": "stdout",
     "output_type": "stream",
     "text": [
      "Variances is [  0.13888889  15.25        15.25        15.25      ]\n",
      "After transform is [[ 1  2  3]\n",
      " [ 4  5  6]\n",
      " [ 7  8  9]\n",
      " [11 12 13]\n",
      " [11 12 13]\n",
      " [11 12 13]]\n",
      "The surport is [1 2 3]\n",
      "After reverse transform is [[ 0  1  2  3]\n",
      " [ 0  4  5  6]\n",
      " [ 0  7  8  9]\n",
      " [ 0 11 12 13]\n",
      " [ 0 11 12 13]\n",
      " [ 0 11 12 13]]\n"
     ]
    },
    {
     "data": {
      "text/plain": [
       "array([[ 1,  2,  3],\n",
       "       [ 4,  5,  6],\n",
       "       [ 7,  8,  9],\n",
       "       [11, 12, 13],\n",
       "       [11, 12, 13],\n",
       "       [11, 12, 13]])"
      ]
     },
     "execution_count": 1,
     "metadata": {},
     "output_type": "execute_result"
    }
   ],
   "source": [
    "from sklearn.feature_selection import *\n",
    "\n",
    "X = [[100, 1, 2, 3],\n",
    "     [100, 4, 5, 6],\n",
    "     [100, 7, 8, 9],\n",
    "     [100, 11, 12, 13],\n",
    "     [100, 11, 12, 13],\n",
    "     [101, 11, 12, 13]]\n",
    "\n",
    "threshold = .8*(1-.8)\n",
    "\n",
    "def test_VarianceThreshold(X,threshold):\n",
    "    selector = VarianceThreshold(threshold)\n",
    "    selector.fit(X)\n",
    "    print(\"Variances is %s\" % selector.variances_)\n",
    "    print(\"After transform is %s\" % selector.transform(X))\n",
    "    print(\"The surport is %s\" % selector.get_support(True))\n",
    "    print(\"After reverse transform is %s\" %selector.inverse_transform(selector.transform(X)))\n",
    "    \n",
    "    \n",
    "    return selector.transform(X)\n",
    "\n",
    "test_VarianceThreshold(X=X,threshold=threshold)"
   ]
  },
  {
   "cell_type": "markdown",
   "metadata": {},
   "source": [
    "但是对于实际的数据集而言，很多时候底方差的数据并不代表着其不是有效的数据，在很多时候移除底方差的数据带来的可能并不是模型性能的提升，而是下降。**下面的实验就证明力这一现象**\n",
    "\n",
    "\n",
    "## 方差特征选择的缺陷\n",
    "*首先,加载数据*"
   ]
  },
  {
   "cell_type": "code",
   "execution_count": 2,
   "metadata": {
    "collapsed": true
   },
   "outputs": [],
   "source": [
    "from sklearn import datasets,model_selection\n",
    "def load_data():\n",
    "    iris=datasets.load_iris() # scikit-learn 自带的 iris 数据集\n",
    "    X_train=iris.data\n",
    "    y_train=iris.target\n",
    "    \n",
    "    return model_selection.train_test_split(X_train, y_train,test_size=0.25,random_state=0,stratify=y_train)"
   ]
  },
  {
   "cell_type": "markdown",
   "metadata": {},
   "source": [
    "**然后定义一个用来比较性能差距的类,在之后的测试中我们将会一直使用这两个类:**"
   ]
  },
  {
   "cell_type": "code",
   "execution_count": 3,
   "metadata": {
    "collapsed": true
   },
   "outputs": [],
   "source": [
    "def show_tree(X_train,X_test,y_train,y_test):\n",
    "    from sklearn.tree import DecisionTreeClassifier\n",
    "    criterions=['gini','entropy']\n",
    "    for criterion in criterions:\n",
    "        clf = DecisionTreeClassifier(criterion=criterion)\n",
    "        clf.fit(X_train, y_train)\n",
    "        print(\"    \",criterion,\"Training score:%f\"%(clf.score(X_train,y_train)))\n",
    "        print(\"    \",criterion,\"Testing score:%f\"%(clf.score(X_test,y_test)))\n",
    "        \n",
    "def comparison_tree(selector):\n",
    "    X_train,X_test,y_train,y_test=load_data()\n",
    "    \n",
    "    print(\"\\nBefore feture selection :\\n\")\n",
    "    show_tree(X_train,X_test,y_train,y_test)\n",
    "    \n",
    "    print(\"\\nAfter feture selection :\\n\")\n",
    "    selector.fit(X_train)\n",
    "    new_X_train = selector.transform(X_train)\n",
    "    new_X_test = selector.transform(X_test)\n",
    "    show_tree(new_X_train,new_X_test,y_train,y_test)"
   ]
  },
  {
   "cell_type": "code",
   "execution_count": 4,
   "metadata": {},
   "outputs": [
    {
     "name": "stdout",
     "output_type": "stream",
     "text": [
      "\n",
      "Before feture selection :\n",
      "\n",
      "     gini Training score:1.000000\n",
      "     gini Testing score:0.947368\n",
      "     entropy Training score:1.000000\n",
      "     entropy Testing score:0.947368\n",
      "\n",
      "After feture selection :\n",
      "\n",
      "     gini Training score:1.000000\n",
      "     gini Testing score:0.947368\n",
      "     entropy Training score:1.000000\n",
      "     entropy Testing score:0.921053\n"
     ]
    }
   ],
   "source": [
    "comparison_tree(selector=VarianceThreshold(.8*(1-.8)))"
   ]
  },
  {
   "cell_type": "markdown",
   "metadata": {},
   "source": [
    "由上面的实验可以证明，移除底方差的数据并不一定会带来模型性能的性能提升，甚至可能是下降。\n",
    "\n",
    "\n",
    "## 其他方法\n",
    "\n",
    "[参考](http://scikit-learn.org/stable/modules/generated/sklearn.feature_selection.VarianceThreshold.html#sklearn.feature_selection.VarianceThreshold)\n",
    "\n",
    " - fit_transform : 使用数据并转换\n",
    " - get_params : 获取参数\n",
    " - get_support :获取所选元素的整数索引\n",
    " - inverse_transform : 反转换\n",
    " - set_params : 设置参数\n",
    " \n",
    " \n",
    "## 本文参考\n",
    "\n",
    " - [sklearn官方文档](http://scikit-learn.org/stable/modules/generated/sklearn.feature_selection.VarianceThreshold.html#sklearn.feature_selection.VarianceThreshold)\n",
    " - [sklearn ApacheCN 官方翻译](http://sklearn.apachecn.org/cn/0.19.0/modules/feature_selection.html)"
   ]
  }
 ],
 "metadata": {
  "kernelspec": {
   "display_name": "Python 3",
   "language": "python",
   "name": "python3"
  },
  "language_info": {
   "codemirror_mode": {
    "name": "ipython",
    "version": 3
   },
   "file_extension": ".py",
   "mimetype": "text/x-python",
   "name": "python",
   "nbconvert_exporter": "python",
   "pygments_lexer": "ipython3",
   "version": "3.7.3"
  }
 },
 "nbformat": 4,
 "nbformat_minor": 2
}
