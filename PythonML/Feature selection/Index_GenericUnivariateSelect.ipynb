{
 "cells": [
  {
   "cell_type": "markdown",
   "metadata": {},
   "source": [
    "## Feature Select\n",
    "### GenericUnivariateSelect\n",
    "单变量特征选择器,通过用于衡量数据之间关系的函数,进行特征选择;在该选择器一共有五种模式可供选择,这五种模式分别对应之后的五种单变量选择器.\n",
    "\n",
    "**参数L**\n",
    " - score_func:可调用函数;函数接受两个数组X和y，并返回一对数组（分数，pvalue）。对于“百分位数”或“ kbest”模式，它可以返回单个数组分数。\n",
    " - model:{‘percentile’, ‘k_best’, ‘fpr’, ‘fdr’, ‘fwe’};模型的选择模式.\n",
    " - param:float;对应模式的参数"
   ]
  },
  {
   "cell_type": "code",
   "execution_count": 1,
   "metadata": {},
   "outputs": [
    {
     "data": {
      "text/plain": [
       "(569, 30)"
      ]
     },
     "execution_count": 1,
     "metadata": {},
     "output_type": "execute_result"
    }
   ],
   "source": [
    "from sklearn.datasets import load_breast_cancer\n",
    "from sklearn.feature_selection import GenericUnivariateSelect, chi2\n",
    "X, y = load_breast_cancer(return_X_y=True)\n",
    "X.shape"
   ]
  },
  {
   "cell_type": "code",
   "execution_count": 2,
   "metadata": {},
   "outputs": [
    {
     "data": {
      "text/plain": [
       "(569, 20)"
      ]
     },
     "execution_count": 2,
     "metadata": {},
     "output_type": "execute_result"
    }
   ],
   "source": [
    "transformer = GenericUnivariateSelect(chi2, mode='k_best', param=20)\n",
    "X_new = transformer.fit_transform(X, y)\n",
    "X_new.shape"
   ]
  },
  {
   "cell_type": "markdown",
   "metadata": {},
   "source": [
    "### SelectPercentile\n",
    "根据最高分数的百分位数选择特征。\n",
    "\n",
    "**参数:**\n",
    " - score_func:可调用的函数;该函数接受两个数组X和y，并返回一对数组（分数，p值）或带分数的单个数组。默认值为f_classif,仅适用于分类任务;可选参数为:\\\"f_regression\\\",\\\"mutual_info_regression\\\",\\\"f_classif\\\",\\\"chi2\\\",\\\"f_classif\\\",\\\"mutual_info_classif\\\",其中前两个用于回归,后三个用于分类.当使用稀疏矩阵时,chi2, mutual_info_regression, mutual_info_classif不会使矩阵变得密集。\"。\n",
    " - percentile:int,默认为10;要保留的特征的百分比。"
   ]
  },
  {
   "cell_type": "code",
   "execution_count": 3,
   "metadata": {},
   "outputs": [
    {
     "data": {
      "text/plain": [
       "(1797, 64)"
      ]
     },
     "execution_count": 3,
     "metadata": {},
     "output_type": "execute_result"
    }
   ],
   "source": [
    "from sklearn.datasets import load_digits\n",
    "from sklearn.feature_selection import SelectPercentile, chi2\n",
    "X, y = load_digits(return_X_y=True)\n",
    "X.shape"
   ]
  },
  {
   "cell_type": "code",
   "execution_count": 4,
   "metadata": {},
   "outputs": [
    {
     "data": {
      "text/plain": [
       "(1797, 7)"
      ]
     },
     "execution_count": 4,
     "metadata": {},
     "output_type": "execute_result"
    }
   ],
   "source": [
    "X_new = SelectPercentile(chi2, percentile=10).fit_transform(X, y)\n",
    "X_new.shape"
   ]
  },
  {
   "cell_type": "markdown",
   "metadata": {},
   "source": [
    "### SelectKBest\n",
    "根据k个最高分数选择特征,也就是保留K种最佳特征。\n",
    "\n",
    "**参数:**\n",
    " - score_func:可调用的函数;该函数接受两个数组X和y，并返回一对数组（分数，p值）或带分数的单个数组。默认值为f_classif,仅适用于分类任务;可选参数为:\\\"f_regression\\\",\\\"mutual_info_regression\\\",\\\"f_classif\\\",\\\"chi2\\\",\\\"f_classif\\\",\\\"mutual_info_classif\\\",其中前两个用于回归,后三个用于分类.当使用稀疏矩阵时,chi2, mutual_info_regression, mutual_info_classif不会使矩阵变得密集。\"\n",
    " - percentile:int或者\"all\",默认为10;要保留的主要功能数,\"all\"绕过选择,用于参数测试。"
   ]
  },
  {
   "cell_type": "code",
   "execution_count": 5,
   "metadata": {},
   "outputs": [
    {
     "data": {
      "text/plain": [
       "(1797, 64)"
      ]
     },
     "execution_count": 5,
     "metadata": {},
     "output_type": "execute_result"
    }
   ],
   "source": [
    "from sklearn.datasets import load_digits\n",
    "from sklearn.feature_selection import SelectKBest, chi2\n",
    "X, y = load_digits(return_X_y=True)\n",
    "X.shape"
   ]
  },
  {
   "cell_type": "code",
   "execution_count": 6,
   "metadata": {},
   "outputs": [
    {
     "data": {
      "text/plain": [
       "(1797, 20)"
      ]
     },
     "execution_count": 6,
     "metadata": {},
     "output_type": "execute_result"
    }
   ],
   "source": [
    "X_new = SelectKBest(chi2, k=20).fit_transform(X, y)\n",
    "X_new.shape"
   ]
  },
  {
   "cell_type": "markdown",
   "metadata": {},
   "source": [
    "### SelectFpr\n",
    "过滤器：根据FPR测试，在alpha以下选择p值。FPR测试代表误报率测试。它控制错误检测的总量。\n",
    "\n",
    "**参数:**\n",
    " - score_func:可调用的函数;该函数接受两个数组X和y，并返回一对数组（分数，p值）或带分数的单个数组。默认值为f_classif,仅适用于分类任务;可选参数为:\\\"f_regression\\\",\\\"mutual_info_regression\\\",\\\"f_classif\\\",\\\"chi2\\\",\\\"f_classif\\\",\\\"mutual_info_classif\\\",其中前两个用于回归,后三个用于分类.当使用稀疏矩阵时,chi2, mutual_info_regression, mutual_info_classif不会使矩阵变得密集。\"\n",
    " - percentile:浮点数;要保留的特征的最高p值。"
   ]
  },
  {
   "cell_type": "code",
   "execution_count": 7,
   "metadata": {},
   "outputs": [
    {
     "data": {
      "text/plain": [
       "(569, 30)"
      ]
     },
     "execution_count": 7,
     "metadata": {},
     "output_type": "execute_result"
    }
   ],
   "source": [
    "from sklearn.datasets import load_breast_cancer\n",
    "from sklearn.feature_selection import SelectFpr, chi2\n",
    "X, y = load_breast_cancer(return_X_y=True)\n",
    "X.shape"
   ]
  },
  {
   "cell_type": "code",
   "execution_count": 8,
   "metadata": {},
   "outputs": [
    {
     "data": {
      "text/plain": [
       "(569, 16)"
      ]
     },
     "execution_count": 8,
     "metadata": {},
     "output_type": "execute_result"
    }
   ],
   "source": [
    "X_new = SelectFpr(chi2, alpha=0.01).fit_transform(X, y)\n",
    "X_new.shape"
   ]
  },
  {
   "cell_type": "markdown",
   "metadata": {},
   "source": [
    "### SelectFdr\n",
    "过滤器：为估计的错误发现率选择p值.这使用了Benjamini-Hochberg过程。alpha是预期错误发现率的上限。\n",
    "\n",
    "**参数:**\n",
    " - score_func:可调用的函数;该函数接受两个数组X和y，并返回一对数组（分数，p值）或带分数的单个数组。默认值为f_classif,仅适用于分类任务;可选参数为:\\\"f_regression\\\",\\\"mutual_info_regression\\\",\\\"f_classif\\\",\\\"chi2\\\",\\\"f_classif\\\",\\\"mutual_info_classif\\\",其中前两个用于回归,后三个用于分类.当使用稀疏矩阵时,chi2, mutual_info_regression, mutual_info_classif不会使矩阵变得密集。\"\n",
    " - percentile:浮点数;要保留的要素的最高未校正p值,默认值5e-2。"
   ]
  },
  {
   "cell_type": "code",
   "execution_count": 1,
   "metadata": {},
   "outputs": [
    {
     "data": {
      "text/plain": [
       "(569, 30)"
      ]
     },
     "execution_count": 1,
     "metadata": {},
     "output_type": "execute_result"
    }
   ],
   "source": [
    "from sklearn.datasets import load_breast_cancer\n",
    "from sklearn.feature_selection import SelectFdr, chi2\n",
    "X, y = load_breast_cancer(return_X_y=True)\n",
    "X.shape"
   ]
  },
  {
   "cell_type": "code",
   "execution_count": 2,
   "metadata": {},
   "outputs": [
    {
     "data": {
      "text/plain": [
       "(569, 16)"
      ]
     },
     "execution_count": 2,
     "metadata": {},
     "output_type": "execute_result"
    }
   ],
   "source": [
    "X_new = SelectFdr(chi2, alpha=0.01).fit_transform(X, y)\n",
    "X_new.shape"
   ]
  },
  {
   "cell_type": "code",
   "execution_count": 3,
   "metadata": {},
   "outputs": [
    {
     "data": {
      "text/plain": [
       "(569, 17)"
      ]
     },
     "execution_count": 3,
     "metadata": {},
     "output_type": "execute_result"
    }
   ],
   "source": [
    "X_new = SelectFdr(chi2).fit_transform(X, y)\n",
    "X_new.shape"
   ]
  },
  {
   "cell_type": "markdown",
   "metadata": {},
   "source": [
    "### SelectFwe\n",
    "选择与Family-wise错误率相对应的p值\n",
    "\n",
    "**参数:**\n",
    " - score_func:可调用的函数;该函数接受两个数组X和y，并返回一对数组（分数，p值）或带分数的单个数组。默认值为f_classif,仅适用于分类任务;可选参数为:\\\"f_regression\\\",\\\"mutual_info_regression\\\",\\\"f_classif\\\",\\\"chi2\\\",\\\"f_classif\\\",\\\"mutual_info_classif\\\",其中前两个用于回归,后三个用于分类.当使用稀疏矩阵时,chi2, mutual_info_regression, mutual_info_classif不会使矩阵变得密集。\"\n",
    " - percentile:浮点数;要保留的要素的最高未校正p值,默认值5e-2。"
   ]
  },
  {
   "cell_type": "code",
   "execution_count": 12,
   "metadata": {},
   "outputs": [
    {
     "data": {
      "text/plain": [
       "(569, 30)"
      ]
     },
     "execution_count": 12,
     "metadata": {},
     "output_type": "execute_result"
    }
   ],
   "source": [
    "from sklearn.datasets import load_breast_cancer\n",
    "from sklearn.feature_selection import SelectFwe, chi2\n",
    "X, y = load_breast_cancer(return_X_y=True)\n",
    "X.shape"
   ]
  },
  {
   "cell_type": "code",
   "execution_count": 13,
   "metadata": {},
   "outputs": [
    {
     "data": {
      "text/plain": [
       "(569, 15)"
      ]
     },
     "execution_count": 13,
     "metadata": {},
     "output_type": "execute_result"
    }
   ],
   "source": [
    "X_new = SelectFwe(chi2, alpha=0.01).fit_transform(X, y)\n",
    "X_new.shape"
   ]
  },
  {
   "cell_type": "markdown",
   "metadata": {},
   "source": [
    "### VarianceThreshold\n",
    "\n",
    "删除所有低方差特征的特征选择器。该特征选择算法仅查看特征（X），而不查看所需的输出（y），因此可用于无监督学习。\n",
    "\n",
    "**参数:**\n",
    " - threshold:float,默认为0.;训练集方差低于此阈值的要素将被删除。默认设置是使所有特征具有非零方差，即删除所有样本中具有相同值的特征。"
   ]
  },
  {
   "cell_type": "code",
   "execution_count": 15,
   "metadata": {},
   "outputs": [
    {
     "data": {
      "text/plain": [
       "array([[2, 0],\n",
       "       [1, 4],\n",
       "       [1, 1]])"
      ]
     },
     "execution_count": 15,
     "metadata": {},
     "output_type": "execute_result"
    }
   ],
   "source": [
    "from sklearn.feature_selection import VarianceThreshold\n",
    "X = [[0, 2, 0, 3], [0, 1, 4, 3], [0, 1, 1, 3]]\n",
    "selector = VarianceThreshold()\n",
    "selector.fit_transform(X)"
   ]
  },
  {
   "cell_type": "code",
   "execution_count": null,
   "metadata": {},
   "outputs": [],
   "source": []
  }
 ],
 "metadata": {
  "kernelspec": {
   "display_name": "Python 3",
   "language": "python",
   "name": "python3"
  },
  "language_info": {
   "codemirror_mode": {
    "name": "ipython",
    "version": 3
   },
   "file_extension": ".py",
   "mimetype": "text/x-python",
   "name": "python",
   "nbconvert_exporter": "python",
   "pygments_lexer": "ipython3",
   "version": "3.8.3"
  }
 },
 "nbformat": 4,
 "nbformat_minor": 4
}
