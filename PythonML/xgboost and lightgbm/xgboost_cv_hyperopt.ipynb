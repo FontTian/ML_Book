{
 "cells": [
  {
   "cell_type": "markdown",
   "metadata": {},
   "source": [
    "## 前言\n",
    "Xgboost中内置了交叉验证，如果我们需要使用交叉验证的话，只需要直接调用即可。我们依旧采用部分之前的代码。你可以直接跳到交叉验证部分\n",
    "\n",
    "## 前置代码\n",
    "### 引用类库，添加需要的函数"
   ]
  },
  {
   "cell_type": "code",
   "execution_count": 2,
   "metadata": {
    "ExecuteTime": {
     "end_time": "2018-12-14T06:12:46.822713Z",
     "start_time": "2018-12-14T06:12:45.990851Z"
    }
   },
   "outputs": [],
   "source": [
    "import numpy as np\n",
    "from sklearn.model_selection import train_test_split\n",
    "import xgboost as xgb\n",
    "import pandas as pd"
   ]
  },
  {
   "cell_type": "code",
   "execution_count": 3,
   "metadata": {
    "ExecuteTime": {
     "end_time": "2018-12-14T06:12:46.832032Z",
     "start_time": "2018-12-14T06:12:46.825225Z"
    }
   },
   "outputs": [],
   "source": [
    "def GetNewDataByPandas():\n",
    "    wine = pd.read_csv(\"/home/fonttian/Data/UCI/wine/wine.csv\")\n",
    "    wine['alcohol**2'] = pow(wine[\"alcohol\"], 2)\n",
    "    wine['volatileAcidity*alcohol'] = wine[\"alcohol\"] * wine['volatile acidity']\n",
    "    y = np.array(wine.quality)\n",
    "    X = np.array(wine.drop(\"quality\", axis=1))\n",
    "    # X = np.array(wine)\n",
    "\n",
    "    columns = np.array(wine.columns)\n",
    "\n",
    "    return X, y, columns"
   ]
  },
  {
   "cell_type": "markdown",
   "metadata": {},
   "source": [
    "## 加载数据\n",
    "### 读取数据并分割\n",
    "\n",
    "因为我们这里使用的是交叉验证因此我们也就不再需要，将数据集分割为三份了，只需要分割出百分之十的数据用于预测就好。注意随机数的问题。"
   ]
  },
  {
   "cell_type": "code",
   "execution_count": 4,
   "metadata": {
    "ExecuteTime": {
     "end_time": "2018-12-14T06:12:46.862819Z",
     "start_time": "2018-12-14T06:12:46.834613Z"
    }
   },
   "outputs": [],
   "source": [
    "# Read wine quality data from file\n",
    "X, y, wineNames = GetNewDataByPandas()\n",
    "# X, y, wineNames = GetDataByPandas()\n",
    "# split data to [0.8,0.2,01]\n",
    "x_train, x_predict, y_train, y_predict = train_test_split(X, y, test_size=0.10, random_state=100)"
   ]
  },
  {
   "cell_type": "markdown",
   "metadata": {},
   "source": [
    "### 展示数据"
   ]
  },
  {
   "cell_type": "code",
   "execution_count": 5,
   "metadata": {
    "ExecuteTime": {
     "end_time": "2018-12-14T06:12:46.996534Z",
     "start_time": "2018-12-14T06:12:46.980708Z"
    }
   },
   "outputs": [
    {
     "data": {
      "text/plain": [
       "array(['fixed acidity', 'volatile acidity', 'citric acid',\n",
       "       'residual sugar', 'chlorides', 'free sulfur dioxide',\n",
       "       'total sulfur dioxide', 'density', 'pH', 'sulphates', 'alcohol',\n",
       "       'quality', 'alcohol**2', 'volatileAcidity*alcohol'], dtype=object)"
      ]
     },
     "execution_count": 5,
     "metadata": {},
     "output_type": "execute_result"
    }
   ],
   "source": [
    "wineNames"
   ]
  },
  {
   "cell_type": "code",
   "execution_count": 6,
   "metadata": {
    "ExecuteTime": {
     "end_time": "2018-12-14T06:12:47.182814Z",
     "start_time": "2018-12-14T06:12:47.177587Z"
    }
   },
   "outputs": [
    {
     "name": "stdout",
     "output_type": "stream",
     "text": [
      "1439 1439\n",
      "160\n"
     ]
    }
   ],
   "source": [
    "print(len(x_train),len(y_train))\n",
    "print(len(x_predict))"
   ]
  },
  {
   "cell_type": "markdown",
   "metadata": {
    "ExecuteTime": {
     "end_time": "2018-12-03T02:18:43.319596Z",
     "start_time": "2018-12-03T02:18:43.313062Z"
    }
   },
   "source": [
    "### 加载到DMatrix\n",
    " 1. 其中missing将作为填充缺失数值的默认值，可不填\n",
    " 2. 必要时也可以设置权重"
   ]
  },
  {
   "cell_type": "code",
   "execution_count": 7,
   "metadata": {
    "ExecuteTime": {
     "end_time": "2018-12-14T06:12:47.558196Z",
     "start_time": "2018-12-14T06:12:47.554021Z"
    }
   },
   "outputs": [],
   "source": [
    "dtrain = xgb.DMatrix(data=x_train,label=y_train,missing=-999.0)"
   ]
  },
  {
   "cell_type": "markdown",
   "metadata": {
    "ExecuteTime": {
     "end_time": "2018-12-03T02:20:36.015678Z",
     "start_time": "2018-12-03T02:20:36.007497Z"
    }
   },
   "source": [
    "## 设定参数\n",
    "### Booster参数\n",
    "\n",
    "eval_metric参数也可以在之后设置。"
   ]
  },
  {
   "cell_type": "code",
   "execution_count": 8,
   "metadata": {
    "ExecuteTime": {
     "end_time": "2018-12-14T06:12:47.944329Z",
     "start_time": "2018-12-14T06:12:47.940109Z"
    }
   },
   "outputs": [],
   "source": [
    "param = {'max_depth': 7, 'eta': 1, 'silent': 1, 'objective': 'reg:linear', 'seed':100}\n",
    "param['nthread'] = 4\n",
    "param['seed'] = 619\n",
    "param['eval_metric'] = ['rmse']"
   ]
  },
  {
   "cell_type": "markdown",
   "metadata": {},
   "source": [
    "## 利用交叉验证训练\n",
    "### 训练模型\n",
    "\n",
    "在之前的代码中，我将数据分割为 6:3:1，其分别为，训练数据，性能监视用数据，和最后的预测数据。这个比例只是为了示例用，并不具有代表性。\n",
    "\n",
    "本处则主要介绍交叉验证方法。"
   ]
  },
  {
   "cell_type": "code",
   "execution_count": 9,
   "metadata": {
    "ExecuteTime": {
     "end_time": "2018-12-14T06:12:49.033985Z",
     "start_time": "2018-12-14T06:12:48.310737Z"
    }
   },
   "outputs": [
    {
     "name": "stdout",
     "output_type": "stream",
     "text": [
      "running cross validation\n",
      "[0]\ttrain-rmse:0.685807+0.013638\ttest-rmse:0.731462+0.0235918\n",
      "[1]\ttrain-rmse:0.498956+0.0250755\ttest-rmse:0.711987+0.0161207\n",
      "[2]\ttrain-rmse:0.430987+0.0273151\ttest-rmse:0.717652+0.0249653\n",
      "[3]\ttrain-rmse:0.383161+0.0238077\ttest-rmse:0.720656+0.0246441\n",
      "[4]\ttrain-rmse:0.308969+0.0226345\ttest-rmse:0.724174+0.0263164\n",
      "[5]\ttrain-rmse:0.265569+0.0248556\ttest-rmse:0.7251+0.0281966\n",
      "[6]\ttrain-rmse:0.23472+0.0236373\ttest-rmse:0.730105+0.0281437\n",
      "[7]\ttrain-rmse:0.208329+0.0279188\ttest-rmse:0.737677+0.0317415\n",
      "[8]\ttrain-rmse:0.17889+0.028945\ttest-rmse:0.743078+0.0301012\n",
      "[9]\ttrain-rmse:0.15444+0.0194831\ttest-rmse:0.740954+0.0327966\n",
      "\n",
      "   train-rmse-mean  train-rmse-std  test-rmse-mean  test-rmse-std\n",
      "0         0.685807        0.013638        0.731462       0.023592\n",
      "1         0.498956        0.025075        0.711987       0.016121\n",
      "2         0.430987        0.027315        0.717652       0.024965\n",
      "3         0.383161        0.023808        0.720656       0.024644\n",
      "4         0.308969        0.022635        0.724174       0.026316\n",
      "5         0.265569        0.024856        0.725100       0.028197\n",
      "6         0.234720        0.023637        0.730105       0.028144\n",
      "7         0.208329        0.027919        0.737677       0.031741\n",
      "8         0.178890        0.028945        0.743078       0.030101\n",
      "9         0.154440        0.019483        0.740954       0.032797\n"
     ]
    }
   ],
   "source": [
    "num_round = 10\n",
    "print('running cross validation')\n",
    "# do cross validation, this will print result out as\n",
    "# [iteration]  metric_name:mean_value+std_value\n",
    "# std_value is standard deviation of the metric\n",
    "rsult_table = xgb.cv(param, dtrain, num_round, nfold=5,\n",
    "       callbacks=[xgb.callback.print_evaluation(show_stdv=True)])\n",
    "\n",
    "print()\n",
    "print(rsult_table)"
   ]
  },
  {
   "cell_type": "markdown",
   "metadata": {
    "ExecuteTime": {
     "end_time": "2018-12-05T02:37:20.310101Z",
     "start_time": "2018-12-05T02:37:20.069573Z"
    }
   },
   "source": [
    "从结果来看，虽然训练误差比较小，但是测试误差比较大，并且测试数据集误差也变小再增大，这都是明显的过拟合现象。而事实上，本处数据集使用的是UCI的红酒质量数据集。该数据集确实比较容易过拟合。那么这时候我们就更加的需要早停了。\n",
    "\n",
    "### 在交叉验证中使用早停"
   ]
  },
  {
   "cell_type": "code",
   "execution_count": 10,
   "metadata": {
    "ExecuteTime": {
     "end_time": "2018-12-14T06:12:49.594980Z",
     "start_time": "2018-12-14T06:12:49.039014Z"
    }
   },
   "outputs": [
    {
     "name": "stdout",
     "output_type": "stream",
     "text": [
      "running cross validation, disable standard deviation display\n",
      "[0]\ttrain-rmse:0.685807\ttest-rmse:0.731462\n",
      "Multiple eval metrics have been passed: 'test-rmse' will be used for early stopping.\n",
      "\n",
      "Will train until test-rmse hasn't improved in 3 rounds.\n",
      "[1]\ttrain-rmse:0.498956\ttest-rmse:0.711987\n",
      "[2]\ttrain-rmse:0.430987\ttest-rmse:0.717652\n",
      "[3]\ttrain-rmse:0.383161\ttest-rmse:0.720656\n",
      "[4]\ttrain-rmse:0.308969\ttest-rmse:0.724174\n",
      "Stopping. Best iteration:\n",
      "[1]\ttrain-rmse:0.498956+0.0250755\ttest-rmse:0.711987+0.0161207\n",
      "\n",
      "   train-rmse-mean  train-rmse-std  test-rmse-mean  test-rmse-std\n",
      "0         0.685807        0.013638        0.731462       0.023592\n",
      "1         0.498956        0.025075        0.711987       0.016121\n"
     ]
    }
   ],
   "source": [
    "print('running cross validation, disable standard deviation display')\n",
    "res = xgb.cv(param, dtrain, num_boost_round=10, nfold=5,\n",
    "             callbacks=[xgb.callback.print_evaluation(show_stdv=False),\n",
    "                        xgb.callback.early_stop(3)])\n",
    "print(res)"
   ]
  },
  {
   "cell_type": "code",
   "execution_count": 11,
   "metadata": {
    "ExecuteTime": {
     "end_time": "2018-12-14T06:12:49.602511Z",
     "start_time": "2018-12-14T06:12:49.597840Z"
    }
   },
   "outputs": [
    {
     "name": "stdout",
     "output_type": "stream",
     "text": [
      "0    0.731462\n",
      "1    0.711987\n",
      "Name: test-rmse-mean, dtype: float64\n"
     ]
    }
   ],
   "source": [
    "print(res['test-rmse-mean'])"
   ]
  },
  {
   "cell_type": "markdown",
   "metadata": {},
   "source": [
    "### 定义预处理函数\n",
    "\n",
    "用于返回预处理的训练、测试数据和参数\n",
    "\n",
    "我们可以用它来重新设置权重，等等。\n",
    "\n",
    "例如，我们尝试设置scale_pos_weight，不过因为这里主要是为了展示用法，所以我们将权重全部设置为1"
   ]
  },
  {
   "cell_type": "code",
   "execution_count": 12,
   "metadata": {
    "ExecuteTime": {
     "end_time": "2018-12-14T06:12:49.612494Z",
     "start_time": "2018-12-14T06:12:49.605531Z"
    }
   },
   "outputs": [],
   "source": [
    "def fpreproc(dtrain, dtest, param):\n",
    "    label = dtrain.get_label()\n",
    "    ratio = float(np.sum(label == 0)) / np.sum(label == 1) # xgboost官方指引中的 例子\n",
    "    ratio = 1 # 我的 例子\n",
    "    param['scale_pos_weight'] = ratio\n",
    "    return (dtrain, dtest, param)"
   ]
  },
  {
   "cell_type": "markdown",
   "metadata": {},
   "source": [
    "### 在交叉验证中使用预处理函数"
   ]
  },
  {
   "cell_type": "code",
   "execution_count": 13,
   "metadata": {
    "ExecuteTime": {
     "end_time": "2018-12-14T06:12:50.108817Z",
     "start_time": "2018-12-14T06:12:49.615623Z"
    }
   },
   "outputs": [
    {
     "name": "stderr",
     "output_type": "stream",
     "text": [
      "/home/fonttian/anaconda3/lib/python3.6/site-packages/ipykernel_launcher.py:3: RuntimeWarning: invalid value encountered in true_divide\n",
      "  This is separate from the ipykernel package so we can avoid doing imports until\n"
     ]
    },
    {
     "name": "stdout",
     "output_type": "stream",
     "text": [
      "   train-rmse-mean  train-rmse-std  test-rmse-mean  test-rmse-std\n",
      "0         0.685807        0.013638        0.731462       0.023592\n",
      "1         0.498956        0.025075        0.711987       0.016121\n",
      "2         0.430987        0.027315        0.717652       0.024965\n",
      "3         0.383161        0.023808        0.720656       0.024644\n",
      "4         0.308969        0.022635        0.724174       0.026316\n",
      "5         0.265569        0.024856        0.725100       0.028197\n",
      "6         0.234720        0.023637        0.730105       0.028144\n",
      "7         0.208329        0.027919        0.737677       0.031741\n",
      "8         0.178890        0.028945        0.743078       0.030101\n",
      "9         0.154440        0.019483        0.740954       0.032797\n"
     ]
    }
   ],
   "source": [
    "res = xgb.cv(param, dtrain, num_round, nfold=5, fpreproc=fpreproc)\n",
    "print(res)"
   ]
  },
  {
   "cell_type": "markdown",
   "metadata": {},
   "source": [
    "## 交叉验证与Hyperopt结合\n",
    "\n",
    "    xgboost进行交叉验证与Hyperopt结合有两种方案，第一种方案是使用本身自带的CV方法，但是这种方案的存在一个问题，就是CV中无法直接传递分开的参数，而只能传递唯一参数params，因此我们需要先生成一个model，然后通过`get_params()`来获取参数，这种方式代码会稍微多几行。不过相较于与sklearn结合的形式，计算时间上则有很大的提升。\n",
    "    \n",
    "    \n",
    "    第二种方案：也可以直接使用`sklearn.model_selection`中的多种交叉验证方案，只将xgboost作为单个模型传入。但是个人并不建议这样做。首先是和sklearn的交互会一定程度上导致计算性能的下降，而且计算时间上差距可能会很大。所以个人建议只有在必要的时候，可以采用最传统的`train_test_split`方案时使用类似的代码结构，但是还是不适用和sklearn结合形式的交叉验证，具体怎么做会在其他例子中介绍。\n",
    "    \n",
    "    \n",
    "### 使用CV方法进行交叉验证\n",
    "\n",
    "    直接使用xgboost中的cv方法进行交叉验证应该是最好的方案。唯一的问题是如何传入唯一的`params`参数。不知道为什么在我翻译玩hyperopt中文文档的这近一年，都没有见到有人写这一类的。有可能是没想到如何解决吧这个问题吧。"
   ]
  },
  {
   "cell_type": "code",
   "execution_count": 14,
   "metadata": {
    "ExecuteTime": {
     "end_time": "2018-12-14T06:12:50.116548Z",
     "start_time": "2018-12-14T06:12:50.112193Z"
    }
   },
   "outputs": [
    {
     "data": {
      "text/plain": [
       "{'max_depth': 7,\n",
       " 'eta': 1,\n",
       " 'silent': 1,\n",
       " 'objective': 'reg:linear',\n",
       " 'seed': 619,\n",
       " 'nthread': 4,\n",
       " 'eval_metric': ['rmse']}"
      ]
     },
     "execution_count": 14,
     "metadata": {},
     "output_type": "execute_result"
    }
   ],
   "source": [
    "param"
   ]
  },
  {
   "cell_type": "code",
   "execution_count": 15,
   "metadata": {
    "ExecuteTime": {
     "end_time": "2018-12-14T06:12:50.287963Z",
     "start_time": "2018-12-14T06:12:50.170279Z"
    }
   },
   "outputs": [],
   "source": [
    "import hyperopt\n",
    "\n",
    "def hyperopt_objective(params):\n",
    "    \n",
    "    model = xgb.XGBRegressor(\n",
    "        max_depth=int(params['max_depth'])+5,\n",
    "        learning_rate=params['learning_rate'],\n",
    "        silent=1,\n",
    "        objective='reg:linear',\n",
    "        eval_metric='rmse',\n",
    "        seed=619,\n",
    "        nthread=-1,\n",
    "    )\n",
    "     \n",
    "    res = xgb.cv(model.get_params(), dtrain, num_boost_round=10, nfold=5,\n",
    "             callbacks=[xgb.callback.print_evaluation(show_stdv=False),\n",
    "                        xgb.callback.early_stop(3)])\n",
    "    \n",
    "    return np.min(res['test-rmse-mean']) # as hyperopt minimises"
   ]
  },
  {
   "cell_type": "code",
   "execution_count": 17,
   "metadata": {
    "ExecuteTime": {
     "end_time": "2018-12-14T06:13:19.088818Z",
     "start_time": "2018-12-14T06:13:10.467940Z"
    }
   },
   "outputs": [
    {
     "name": "stdout",
     "output_type": "stream",
     "text": [
      "[0]\ttrain-rmse:3.26275\ttest-rmse:3.2673\n",
      "Multiple eval metrics have been passed: 'test-rmse' will be used for early stopping.\n",
      "\n",
      "Will train until test-rmse hasn't improved in 3 rounds.\n",
      "[1]\ttrain-rmse:2.08066\ttest-rmse:2.09467\n",
      "[2]\ttrain-rmse:1.3656\ttest-rmse:1.40461\n",
      "[3]\ttrain-rmse:0.931272\ttest-rmse:1.02085\n",
      "[4]\ttrain-rmse:0.668251\ttest-rmse:0.815193\n",
      "[5]\ttrain-rmse:0.503126\ttest-rmse:0.720206\n",
      "[6]\ttrain-rmse:0.398523\ttest-rmse:0.674504\n",
      "[7]\ttrain-rmse:0.32354\ttest-rmse:0.654644\n",
      "[8]\ttrain-rmse:0.272398\ttest-rmse:0.646695\n",
      "[9]\ttrain-rmse:0.242619\ttest-rmse:0.643557\n",
      "[0]\ttrain-rmse:3.11004\ttest-rmse:3.11516\n",
      "Multiple eval metrics have been passed: 'test-rmse' will be used for early stopping.\n",
      "\n",
      "Will train until test-rmse hasn't improved in 3 rounds.\n",
      "[1]\ttrain-rmse:1.90079\ttest-rmse:1.91514\n",
      "[2]\ttrain-rmse:1.21239\ttest-rmse:1.24757\n",
      "[3]\ttrain-rmse:0.837937\ttest-rmse:0.899628\n",
      "[4]\ttrain-rmse:0.64615\ttest-rmse:0.739417\n",
      "[5]\ttrain-rmse:0.54979\ttest-rmse:0.671479\n",
      "[6]\ttrain-rmse:0.503193\ttest-rmse:0.644203\n",
      "[7]\ttrain-rmse:0.471192\ttest-rmse:0.632498\n",
      "[8]\ttrain-rmse:0.450956\ttest-rmse:0.627988\n",
      "[9]\ttrain-rmse:0.434387\ttest-rmse:0.62612\n",
      "[0]\ttrain-rmse:3.26459\ttest-rmse:3.26913\n",
      "Multiple eval metrics have been passed: 'test-rmse' will be used for early stopping.\n",
      "\n",
      "Will train until test-rmse hasn't improved in 3 rounds.\n",
      "[1]\ttrain-rmse:2.08289\ttest-rmse:2.09688\n",
      "[2]\ttrain-rmse:1.36855\ttest-rmse:1.4034\n",
      "[3]\ttrain-rmse:0.940089\ttest-rmse:1.01553\n",
      "[4]\ttrain-rmse:0.691748\ttest-rmse:0.813632\n",
      "[5]\ttrain-rmse:0.539237\ttest-rmse:0.720493\n",
      "[6]\ttrain-rmse:0.450071\ttest-rmse:0.678234\n",
      "[7]\ttrain-rmse:0.399523\ttest-rmse:0.659718\n",
      "[8]\ttrain-rmse:0.358567\ttest-rmse:0.647878\n",
      "[9]\ttrain-rmse:0.339646\ttest-rmse:0.644357\n",
      "[0]\ttrain-rmse:3.42177\ttest-rmse:3.42577\n",
      "Multiple eval metrics have been passed: 'test-rmse' will be used for early stopping.\n",
      "\n",
      "Will train until test-rmse hasn't improved in 3 rounds.\n",
      "[1]\ttrain-rmse:2.27903\ttest-rmse:2.28796\n",
      "[2]\ttrain-rmse:1.5507\ttest-rmse:1.57321\n",
      "[3]\ttrain-rmse:1.09405\ttest-rmse:1.13644\n",
      "[4]\ttrain-rmse:0.817203\ttest-rmse:0.88667\n",
      "[5]\ttrain-rmse:0.655052\ttest-rmse:0.753676\n",
      "[6]\ttrain-rmse:0.562061\ttest-rmse:0.688578\n",
      "[7]\ttrain-rmse:0.510419\ttest-rmse:0.655785\n",
      "[8]\ttrain-rmse:0.478518\ttest-rmse:0.643218\n",
      "[9]\ttrain-rmse:0.456815\ttest-rmse:0.63651\n",
      "[0]\ttrain-rmse:4.29497\ttest-rmse:4.29654\n",
      "Multiple eval metrics have been passed: 'test-rmse' will be used for early stopping.\n",
      "\n",
      "Will train until test-rmse hasn't improved in 3 rounds.\n",
      "[1]\ttrain-rmse:3.55464\ttest-rmse:3.5589\n",
      "[2]\ttrain-rmse:2.94808\ttest-rmse:2.95518\n",
      "[3]\ttrain-rmse:2.45199\ttest-rmse:2.4614\n",
      "[4]\ttrain-rmse:2.04657\ttest-rmse:2.06141\n",
      "[5]\ttrain-rmse:1.71558\ttest-rmse:1.73965\n",
      "[6]\ttrain-rmse:1.44579\ttest-rmse:1.48238\n",
      "[7]\ttrain-rmse:1.22581\ttest-rmse:1.27885\n",
      "[8]\ttrain-rmse:1.04649\ttest-rmse:1.11785\n",
      "[9]\ttrain-rmse:0.901877\ttest-rmse:0.994994\n",
      "[0]\ttrain-rmse:4.27085\ttest-rmse:4.27247\n",
      "Multiple eval metrics have been passed: 'test-rmse' will be used for early stopping.\n",
      "\n",
      "Will train until test-rmse hasn't improved in 3 rounds.\n",
      "[1]\ttrain-rmse:3.51518\ttest-rmse:3.51794\n",
      "[2]\ttrain-rmse:2.89979\ttest-rmse:2.90512\n",
      "[3]\ttrain-rmse:2.39957\ttest-rmse:2.40788\n",
      "[4]\ttrain-rmse:1.99326\ttest-rmse:2.00818\n",
      "[5]\ttrain-rmse:1.66403\ttest-rmse:1.68979\n",
      "[6]\ttrain-rmse:1.39775\ttest-rmse:1.43304\n",
      "[7]\ttrain-rmse:1.1826\ttest-rmse:1.23276\n",
      "[8]\ttrain-rmse:1.01081\ttest-rmse:1.07426\n",
      "[9]\ttrain-rmse:0.873172\ttest-rmse:0.954318\n",
      "[0]\ttrain-rmse:3.77948\ttest-rmse:3.78237\n",
      "Multiple eval metrics have been passed: 'test-rmse' will be used for early stopping.\n",
      "\n",
      "Will train until test-rmse hasn't improved in 3 rounds.\n",
      "[1]\ttrain-rmse:2.7637\ttest-rmse:2.76902\n",
      "[2]\ttrain-rmse:2.03855\ttest-rmse:2.05404\n",
      "[3]\ttrain-rmse:1.52266\ttest-rmse:1.55627\n",
      "[4]\ttrain-rmse:1.15654\ttest-rmse:1.21631\n",
      "[5]\ttrain-rmse:0.894987\ttest-rmse:0.991981\n",
      "[6]\ttrain-rmse:0.709419\ttest-rmse:0.846896\n",
      "[7]\ttrain-rmse:0.57648\ttest-rmse:0.754521\n",
      "[8]\ttrain-rmse:0.482599\ttest-rmse:0.699953\n",
      "[9]\ttrain-rmse:0.416631\ttest-rmse:0.669334\n",
      "[0]\ttrain-rmse:3.11828\ttest-rmse:3.12337\n",
      "Multiple eval metrics have been passed: 'test-rmse' will be used for early stopping.\n",
      "\n",
      "Will train until test-rmse hasn't improved in 3 rounds.\n",
      "[1]\ttrain-rmse:1.91007\ttest-rmse:1.92615\n",
      "[2]\ttrain-rmse:1.21414\ttest-rmse:1.27015\n",
      "[3]\ttrain-rmse:0.809791\ttest-rmse:0.937652\n",
      "[4]\ttrain-rmse:0.573486\ttest-rmse:0.778294\n",
      "[5]\ttrain-rmse:0.421213\ttest-rmse:0.71075\n",
      "[6]\ttrain-rmse:0.325136\ttest-rmse:0.683273\n",
      "[7]\ttrain-rmse:0.264319\ttest-rmse:0.671336\n",
      "[8]\ttrain-rmse:0.216895\ttest-rmse:0.666482\n",
      "[9]\ttrain-rmse:0.186642\ttest-rmse:0.66316\n",
      "[0]\ttrain-rmse:4.98238\ttest-rmse:4.9825\n",
      "Multiple eval metrics have been passed: 'test-rmse' will be used for early stopping.\n",
      "\n",
      "Will train until test-rmse hasn't improved in 3 rounds.\n",
      "[1]\ttrain-rmse:4.77608\ttest-rmse:4.77666\n",
      "[2]\ttrain-rmse:4.57864\ttest-rmse:4.57958\n",
      "[3]\ttrain-rmse:4.38968\ttest-rmse:4.39127\n",
      "[4]\ttrain-rmse:4.20883\ttest-rmse:4.21072\n",
      "[5]\ttrain-rmse:4.03577\ttest-rmse:4.03788\n",
      "[6]\ttrain-rmse:3.87014\ttest-rmse:3.8722\n",
      "[7]\ttrain-rmse:3.71163\ttest-rmse:3.714\n",
      "[8]\ttrain-rmse:3.55994\ttest-rmse:3.56234\n",
      "[9]\ttrain-rmse:3.41481\ttest-rmse:3.41758\n",
      "[0]\ttrain-rmse:3.61781\ttest-rmse:3.62119\n",
      "Multiple eval metrics have been passed: 'test-rmse' will be used for early stopping.\n",
      "\n",
      "Will train until test-rmse hasn't improved in 3 rounds.\n",
      "[1]\ttrain-rmse:2.53774\ttest-rmse:2.54631\n",
      "[2]\ttrain-rmse:1.80347\ttest-rmse:1.82213\n",
      "[3]\ttrain-rmse:1.30647\ttest-rmse:1.34624\n",
      "[4]\ttrain-rmse:0.969212\ttest-rmse:1.05053\n",
      "[5]\ttrain-rmse:0.736625\ttest-rmse:0.872316\n",
      "[6]\ttrain-rmse:0.57681\ttest-rmse:0.766311\n",
      "[7]\ttrain-rmse:0.463854\ttest-rmse:0.704717\n",
      "[8]\ttrain-rmse:0.388115\ttest-rmse:0.669203\n",
      "[9]\ttrain-rmse:0.330469\ttest-rmse:0.651695\n",
      "[0]\ttrain-rmse:4.66337\ttest-rmse:4.66413\n",
      "Multiple eval metrics have been passed: 'test-rmse' will be used for early stopping.\n",
      "\n",
      "Will train until test-rmse hasn't improved in 3 rounds.\n",
      "[1]\ttrain-rmse:4.1857\ttest-rmse:4.1882\n",
      "[2]\ttrain-rmse:3.75906\ttest-rmse:3.76248\n",
      "[3]\ttrain-rmse:3.37794\ttest-rmse:3.38133\n",
      "[4]\ttrain-rmse:3.03762\ttest-rmse:3.04296\n",
      "[5]\ttrain-rmse:2.73397\ttest-rmse:2.7408\n",
      "[6]\ttrain-rmse:2.46296\ttest-rmse:2.47303\n",
      "[7]\ttrain-rmse:2.2214\ttest-rmse:2.23272\n",
      "[8]\ttrain-rmse:2.0062\ttest-rmse:2.0199\n",
      "[9]\ttrain-rmse:1.81479\ttest-rmse:1.83229\n",
      "[0]\ttrain-rmse:4.18917\ttest-rmse:4.19099\n",
      "Multiple eval metrics have been passed: 'test-rmse' will be used for early stopping.\n",
      "\n",
      "Will train until test-rmse hasn't improved in 3 rounds.\n",
      "[1]\ttrain-rmse:3.38347\ttest-rmse:3.38657\n",
      "[2]\ttrain-rmse:2.74059\ttest-rmse:2.74674\n",
      "[3]\ttrain-rmse:2.22874\ttest-rmse:2.23949\n",
      "[4]\ttrain-rmse:1.82286\ttest-rmse:1.84088\n",
      "[5]\ttrain-rmse:1.50151\ttest-rmse:1.52977\n",
      "[6]\ttrain-rmse:1.24856\ttest-rmse:1.28914\n",
      "[7]\ttrain-rmse:1.05078\ttest-rmse:1.10681\n",
      "[8]\ttrain-rmse:0.897767\ttest-rmse:0.967753\n",
      "[9]\ttrain-rmse:0.780212\ttest-rmse:0.864112\n",
      "[0]\ttrain-rmse:3.23859\ttest-rmse:3.24323\n",
      "Multiple eval metrics have been passed: 'test-rmse' will be used for early stopping.\n",
      "\n",
      "Will train until test-rmse hasn't improved in 3 rounds.\n",
      "[1]\ttrain-rmse:2.0515\ttest-rmse:2.06637\n",
      "[2]\ttrain-rmse:1.34071\ttest-rmse:1.37715\n",
      "[3]\ttrain-rmse:0.919451\ttest-rmse:0.996257\n",
      "[4]\ttrain-rmse:0.67446\ttest-rmse:0.800552\n",
      "[5]\ttrain-rmse:0.53062\ttest-rmse:0.702647\n",
      "[6]\ttrain-rmse:0.447782\ttest-rmse:0.661497\n",
      "[7]\ttrain-rmse:0.399409\ttest-rmse:0.645123\n",
      "[8]\ttrain-rmse:0.367216\ttest-rmse:0.636121\n",
      "[9]\ttrain-rmse:0.335951\ttest-rmse:0.633493\n",
      "[0]\ttrain-rmse:3.65417\ttest-rmse:3.65744\n",
      "Multiple eval metrics have been passed: 'test-rmse' will be used for early stopping.\n",
      "\n",
      "Will train until test-rmse hasn't improved in 3 rounds.\n",
      "[1]\ttrain-rmse:2.5876\ttest-rmse:2.59615\n",
      "[2]\ttrain-rmse:1.8542\ttest-rmse:1.87131\n",
      "[3]\ttrain-rmse:1.35103\ttest-rmse:1.38904\n",
      "[4]\ttrain-rmse:1.00434\ttest-rmse:1.08055\n",
      "[5]\ttrain-rmse:0.760263\ttest-rmse:0.891444\n",
      "[6]\ttrain-rmse:0.587511\ttest-rmse:0.771768\n",
      "[7]\ttrain-rmse:0.462305\ttest-rmse:0.703454\n",
      "[8]\ttrain-rmse:0.372143\ttest-rmse:0.665873\n",
      "[9]\ttrain-rmse:0.30708\ttest-rmse:0.644412\n",
      "[0]\ttrain-rmse:3.58298\ttest-rmse:3.58646\n",
      "Multiple eval metrics have been passed: 'test-rmse' will be used for early stopping.\n",
      "\n",
      "Will train until test-rmse hasn't improved in 3 rounds.\n",
      "[1]\ttrain-rmse:2.49054\ttest-rmse:2.49933\n",
      "[2]\ttrain-rmse:1.75625\ttest-rmse:1.77372\n",
      "[3]\ttrain-rmse:1.26727\ttest-rmse:1.30224\n",
      "[4]\ttrain-rmse:0.946164\ttest-rmse:1.00807\n",
      "[5]\ttrain-rmse:0.737572\ttest-rmse:0.829492\n"
     ]
    },
    {
     "name": "stdout",
     "output_type": "stream",
     "text": [
      "[6]\ttrain-rmse:0.607008\ttest-rmse:0.733551\n",
      "[7]\ttrain-rmse:0.523004\ttest-rmse:0.677904\n",
      "[8]\ttrain-rmse:0.470362\ttest-rmse:0.64919\n",
      "[9]\ttrain-rmse:0.432426\ttest-rmse:0.635024\n",
      "[0]\ttrain-rmse:2.89835\ttest-rmse:2.90436\n",
      "Multiple eval metrics have been passed: 'test-rmse' will be used for early stopping.\n",
      "\n",
      "Will train until test-rmse hasn't improved in 3 rounds.\n",
      "[1]\ttrain-rmse:1.66846\ttest-rmse:1.68351\n",
      "[2]\ttrain-rmse:1.03021\ttest-rmse:1.06949\n",
      "[3]\ttrain-rmse:0.716919\ttest-rmse:0.794803\n",
      "[4]\ttrain-rmse:0.578381\ttest-rmse:0.697065\n",
      "[5]\ttrain-rmse:0.515998\ttest-rmse:0.662358\n",
      "[6]\ttrain-rmse:0.480762\ttest-rmse:0.649818\n",
      "[7]\ttrain-rmse:0.461886\ttest-rmse:0.649972\n",
      "[8]\ttrain-rmse:0.444416\ttest-rmse:0.649307\n",
      "[9]\ttrain-rmse:0.431887\ttest-rmse:0.649179\n",
      "[0]\ttrain-rmse:4.74307\ttest-rmse:4.74366\n",
      "Multiple eval metrics have been passed: 'test-rmse' will be used for early stopping.\n",
      "\n",
      "Will train until test-rmse hasn't improved in 3 rounds.\n",
      "[1]\ttrain-rmse:4.32937\ttest-rmse:4.33143\n",
      "[2]\ttrain-rmse:3.95325\ttest-rmse:3.95629\n",
      "[3]\ttrain-rmse:3.61123\ttest-rmse:3.6138\n",
      "[4]\ttrain-rmse:3.30035\ttest-rmse:3.30453\n",
      "[5]\ttrain-rmse:3.01785\ttest-rmse:3.02294\n",
      "[6]\ttrain-rmse:2.76104\ttest-rmse:2.76761\n",
      "[7]\ttrain-rmse:2.52778\ttest-rmse:2.53689\n",
      "[8]\ttrain-rmse:2.31589\ttest-rmse:2.32687\n",
      "[9]\ttrain-rmse:2.12367\ttest-rmse:2.1366\n",
      "[0]\ttrain-rmse:3.60534\ttest-rmse:3.60875\n",
      "Multiple eval metrics have been passed: 'test-rmse' will be used for early stopping.\n",
      "\n",
      "Will train until test-rmse hasn't improved in 3 rounds.\n",
      "[1]\ttrain-rmse:2.52078\ttest-rmse:2.52936\n",
      "[2]\ttrain-rmse:1.78638\ttest-rmse:1.80517\n",
      "[3]\ttrain-rmse:1.29218\ttest-rmse:1.33049\n",
      "[4]\ttrain-rmse:0.962177\ttest-rmse:1.03117\n",
      "[5]\ttrain-rmse:0.741022\ttest-rmse:0.85094\n",
      "[6]\ttrain-rmse:0.595028\ttest-rmse:0.746746\n",
      "[7]\ttrain-rmse:0.502566\ttest-rmse:0.687068\n",
      "[8]\ttrain-rmse:0.437949\ttest-rmse:0.658197\n",
      "[9]\ttrain-rmse:0.394067\ttest-rmse:0.641616\n",
      "[0]\ttrain-rmse:4.11606\ttest-rmse:4.11806\n",
      "Multiple eval metrics have been passed: 'test-rmse' will be used for early stopping.\n",
      "\n",
      "Will train until test-rmse hasn't improved in 3 rounds.\n",
      "[1]\ttrain-rmse:3.26786\ttest-rmse:3.2723\n",
      "[2]\ttrain-rmse:2.60361\ttest-rmse:2.61182\n",
      "[3]\ttrain-rmse:2.08491\ttest-rmse:2.09798\n",
      "[4]\ttrain-rmse:1.68173\ttest-rmse:1.70225\n",
      "[5]\ttrain-rmse:1.3695\ttest-rmse:1.40173\n",
      "[6]\ttrain-rmse:1.12946\ttest-rmse:1.17528\n",
      "[7]\ttrain-rmse:0.946288\ttest-rmse:1.00771\n",
      "[8]\ttrain-rmse:0.808344\ttest-rmse:0.887212\n",
      "[9]\ttrain-rmse:0.705703\ttest-rmse:0.802998\n",
      "[0]\ttrain-rmse:4.11767\ttest-rmse:4.11967\n",
      "Multiple eval metrics have been passed: 'test-rmse' will be used for early stopping.\n",
      "\n",
      "Will train until test-rmse hasn't improved in 3 rounds.\n",
      "[1]\ttrain-rmse:3.2704\ttest-rmse:3.27415\n",
      "[2]\ttrain-rmse:2.60654\ttest-rmse:2.61431\n",
      "[3]\ttrain-rmse:2.08744\ttest-rmse:2.10268\n",
      "[4]\ttrain-rmse:1.68327\ttest-rmse:1.70752\n",
      "[5]\ttrain-rmse:1.36846\ttest-rmse:1.40711\n",
      "[6]\ttrain-rmse:1.12339\ttest-rmse:1.18103\n",
      "[7]\ttrain-rmse:0.934319\ttest-rmse:1.01305\n",
      "[8]\ttrain-rmse:0.786758\ttest-rmse:0.892267\n",
      "[9]\ttrain-rmse:0.674765\ttest-rmse:0.807018\n",
      "[0]\ttrain-rmse:2.77727\ttest-rmse:2.78383\n",
      "Multiple eval metrics have been passed: 'test-rmse' will be used for early stopping.\n",
      "\n",
      "Will train until test-rmse hasn't improved in 3 rounds.\n",
      "[1]\ttrain-rmse:1.54368\ttest-rmse:1.5614\n",
      "[2]\ttrain-rmse:0.929341\ttest-rmse:0.986269\n",
      "[3]\ttrain-rmse:0.630683\ttest-rmse:0.757169\n",
      "[4]\ttrain-rmse:0.484675\ttest-rmse:0.67459\n",
      "[5]\ttrain-rmse:0.41533\ttest-rmse:0.647738\n",
      "[6]\ttrain-rmse:0.369517\ttest-rmse:0.638828\n",
      "[7]\ttrain-rmse:0.333528\ttest-rmse:0.637332\n",
      "[8]\ttrain-rmse:0.313513\ttest-rmse:0.637258\n",
      "[9]\ttrain-rmse:0.290311\ttest-rmse:0.636971\n",
      "[0]\ttrain-rmse:2.67666\ttest-rmse:2.68372\n",
      "Multiple eval metrics have been passed: 'test-rmse' will be used for early stopping.\n",
      "\n",
      "Will train until test-rmse hasn't improved in 3 rounds.\n",
      "[1]\ttrain-rmse:1.44622\ttest-rmse:1.46293\n",
      "[2]\ttrain-rmse:0.863428\ttest-rmse:0.926553\n",
      "[3]\ttrain-rmse:0.607843\ttest-rmse:0.730211\n",
      "[4]\ttrain-rmse:0.497664\ttest-rmse:0.660094\n",
      "[5]\ttrain-rmse:0.44625\ttest-rmse:0.641597\n",
      "[6]\ttrain-rmse:0.410004\ttest-rmse:0.64013\n",
      "[7]\ttrain-rmse:0.389031\ttest-rmse:0.638427\n",
      "[8]\ttrain-rmse:0.373255\ttest-rmse:0.6371\n",
      "[9]\ttrain-rmse:0.35829\ttest-rmse:0.635387\n",
      "[0]\ttrain-rmse:2.95888\ttest-rmse:2.96463\n",
      "Multiple eval metrics have been passed: 'test-rmse' will be used for early stopping.\n",
      "\n",
      "Will train until test-rmse hasn't improved in 3 rounds.\n",
      "[1]\ttrain-rmse:1.73218\ttest-rmse:1.74799\n",
      "[2]\ttrain-rmse:1.06654\ttest-rmse:1.13091\n",
      "[3]\ttrain-rmse:0.701934\ttest-rmse:0.840962\n",
      "[4]\ttrain-rmse:0.503841\ttest-rmse:0.715688\n",
      "[5]\ttrain-rmse:0.378699\ttest-rmse:0.666626\n",
      "[6]\ttrain-rmse:0.312047\ttest-rmse:0.65023\n",
      "[7]\ttrain-rmse:0.26859\ttest-rmse:0.644105\n",
      "[8]\ttrain-rmse:0.233672\ttest-rmse:0.641965\n",
      "[9]\ttrain-rmse:0.200851\ttest-rmse:0.640645\n",
      "[0]\ttrain-rmse:3.06651\ttest-rmse:3.07181\n",
      "Multiple eval metrics have been passed: 'test-rmse' will be used for early stopping.\n",
      "\n",
      "Will train until test-rmse hasn't improved in 3 rounds.\n",
      "[1]\ttrain-rmse:1.85153\ttest-rmse:1.86534\n",
      "[2]\ttrain-rmse:1.16599\ttest-rmse:1.21251\n",
      "[3]\ttrain-rmse:0.781168\ttest-rmse:0.889358\n",
      "[4]\ttrain-rmse:0.562855\ttest-rmse:0.741882\n",
      "[5]\ttrain-rmse:0.440211\ttest-rmse:0.68702\n",
      "[6]\ttrain-rmse:0.366251\ttest-rmse:0.663726\n",
      "[7]\ttrain-rmse:0.322173\ttest-rmse:0.652334\n",
      "[8]\ttrain-rmse:0.285886\ttest-rmse:0.650692\n",
      "[9]\ttrain-rmse:0.25134\ttest-rmse:0.649787\n",
      "[0]\ttrain-rmse:3.92017\ttest-rmse:3.92268\n",
      "Multiple eval metrics have been passed: 'test-rmse' will be used for early stopping.\n",
      "\n",
      "Will train until test-rmse hasn't improved in 3 rounds.\n",
      "[1]\ttrain-rmse:2.96875\ttest-rmse:2.97489\n",
      "[2]\ttrain-rmse:2.2623\ttest-rmse:2.27322\n",
      "[3]\ttrain-rmse:1.74012\ttest-rmse:1.75562\n",
      "[4]\ttrain-rmse:1.3569\ttest-rmse:1.38445\n",
      "[5]\ttrain-rmse:1.07864\ttest-rmse:1.12441\n",
      "[6]\ttrain-rmse:0.878843\ttest-rmse:0.944237\n",
      "[7]\ttrain-rmse:0.739014\ttest-rmse:0.825181\n",
      "[8]\ttrain-rmse:0.641449\ttest-rmse:0.745343\n",
      "[9]\ttrain-rmse:0.574538\ttest-rmse:0.699129\n",
      "[0]\ttrain-rmse:3.33618\ttest-rmse:3.34047\n",
      "Multiple eval metrics have been passed: 'test-rmse' will be used for early stopping.\n",
      "\n",
      "Will train until test-rmse hasn't improved in 3 rounds.\n",
      "[1]\ttrain-rmse:2.17086\ttest-rmse:2.18276\n",
      "[2]\ttrain-rmse:1.44792\ttest-rmse:1.48189\n",
      "[3]\ttrain-rmse:1.0019\ttest-rmse:1.07672\n",
      "[4]\ttrain-rmse:0.734855\ttest-rmse:0.852449\n",
      "[5]\ttrain-rmse:0.574876\ttest-rmse:0.737143\n",
      "[6]\ttrain-rmse:0.474145\ttest-rmse:0.681306\n",
      "[7]\ttrain-rmse:0.409417\ttest-rmse:0.657243\n",
      "[8]\ttrain-rmse:0.366846\ttest-rmse:0.648454\n",
      "[9]\ttrain-rmse:0.340745\ttest-rmse:0.644836\n",
      "[0]\ttrain-rmse:2.6909\ttest-rmse:2.69788\n",
      "Multiple eval metrics have been passed: 'test-rmse' will be used for early stopping.\n",
      "\n",
      "Will train until test-rmse hasn't improved in 3 rounds.\n",
      "[1]\ttrain-rmse:1.46059\ttest-rmse:1.47644\n",
      "[2]\ttrain-rmse:0.881262\ttest-rmse:0.936464\n",
      "[3]\ttrain-rmse:0.632434\ttest-rmse:0.733659\n",
      "[4]\ttrain-rmse:0.531509\ttest-rmse:0.670883\n",
      "[5]\ttrain-rmse:0.48772\ttest-rmse:0.651677\n",
      "[6]\ttrain-rmse:0.46548\ttest-rmse:0.649942\n",
      "[7]\ttrain-rmse:0.443607\ttest-rmse:0.646008\n",
      "[8]\ttrain-rmse:0.426445\ttest-rmse:0.648005\n",
      "[9]\ttrain-rmse:0.408855\ttest-rmse:0.651237\n",
      "[0]\ttrain-rmse:3.11465\ttest-rmse:3.11976\n",
      "Multiple eval metrics have been passed: 'test-rmse' will be used for early stopping.\n",
      "\n",
      "Will train until test-rmse hasn't improved in 3 rounds.\n",
      "[1]\ttrain-rmse:1.90591\ttest-rmse:1.92205\n",
      "[2]\ttrain-rmse:1.21313\ttest-rmse:1.26272\n",
      "[3]\ttrain-rmse:0.822093\ttest-rmse:0.922183\n",
      "[4]\ttrain-rmse:0.607829\ttest-rmse:0.759152\n",
      "[5]\ttrain-rmse:0.494645\ttest-rmse:0.68839\n",
      "[6]\ttrain-rmse:0.429045\ttest-rmse:0.659141\n",
      "[7]\ttrain-rmse:0.381168\ttest-rmse:0.647536\n",
      "[8]\ttrain-rmse:0.348918\ttest-rmse:0.641762\n",
      "[9]\ttrain-rmse:0.328297\ttest-rmse:0.639864\n",
      "[0]\ttrain-rmse:3.47386\ttest-rmse:3.47769\n",
      "Multiple eval metrics have been passed: 'test-rmse' will be used for early stopping.\n",
      "\n",
      "Will train until test-rmse hasn't improved in 3 rounds.\n",
      "[1]\ttrain-rmse:2.3461\ttest-rmse:2.35616\n",
      "[2]\ttrain-rmse:1.61378\ttest-rmse:1.63934\n",
      "[3]\ttrain-rmse:1.13884\ttest-rmse:1.19643\n",
      "[4]\ttrain-rmse:0.829176\ttest-rmse:0.935529\n",
      "[5]\ttrain-rmse:0.622666\ttest-rmse:0.785799\n",
      "[6]\ttrain-rmse:0.483484\ttest-rmse:0.703971\n",
      "[7]\ttrain-rmse:0.390125\ttest-rmse:0.661417\n",
      "[8]\ttrain-rmse:0.327841\ttest-rmse:0.641893\n",
      "[9]\ttrain-rmse:0.283738\ttest-rmse:0.633404\n",
      "[0]\ttrain-rmse:3.45966\ttest-rmse:3.46353\n",
      "Multiple eval metrics have been passed: 'test-rmse' will be used for early stopping.\n",
      "\n",
      "Will train until test-rmse hasn't improved in 3 rounds.\n"
     ]
    },
    {
     "name": "stdout",
     "output_type": "stream",
     "text": [
      "[1]\ttrain-rmse:2.32766\ttest-rmse:2.33788\n",
      "[2]\ttrain-rmse:1.59577\ttest-rmse:1.62308\n",
      "[3]\ttrain-rmse:1.12384\ttest-rmse:1.18198\n",
      "[4]\ttrain-rmse:0.820035\ttest-rmse:0.929889\n",
      "[5]\ttrain-rmse:0.616898\ttest-rmse:0.786757\n",
      "[6]\ttrain-rmse:0.482986\ttest-rmse:0.706541\n",
      "[7]\ttrain-rmse:0.390492\ttest-rmse:0.666407\n",
      "[8]\ttrain-rmse:0.330194\ttest-rmse:0.648272\n",
      "[9]\ttrain-rmse:0.289325\ttest-rmse:0.639296\n",
      "[0]\ttrain-rmse:2.90654\ttest-rmse:2.91251\n",
      "Multiple eval metrics have been passed: 'test-rmse' will be used for early stopping.\n",
      "\n",
      "Will train until test-rmse hasn't improved in 3 rounds.\n",
      "[1]\ttrain-rmse:1.67607\ttest-rmse:1.69114\n",
      "[2]\ttrain-rmse:1.02172\ttest-rmse:1.0791\n",
      "[3]\ttrain-rmse:0.668905\ttest-rmse:0.809289\n",
      "[4]\ttrain-rmse:0.477573\ttest-rmse:0.70237\n",
      "[5]\ttrain-rmse:0.372438\ttest-rmse:0.664591\n",
      "[6]\ttrain-rmse:0.307832\ttest-rmse:0.6521\n",
      "[7]\ttrain-rmse:0.257258\ttest-rmse:0.647787\n",
      "[8]\ttrain-rmse:0.220306\ttest-rmse:0.646447\n",
      "[9]\ttrain-rmse:0.19488\ttest-rmse:0.646466\n",
      "[0]\ttrain-rmse:3.85385\ttest-rmse:3.85654\n",
      "Multiple eval metrics have been passed: 'test-rmse' will be used for early stopping.\n",
      "\n",
      "Will train until test-rmse hasn't improved in 3 rounds.\n",
      "[1]\ttrain-rmse:2.87125\ttest-rmse:2.87658\n",
      "[2]\ttrain-rmse:2.15469\ttest-rmse:2.16643\n",
      "[3]\ttrain-rmse:1.63366\ttest-rmse:1.66065\n",
      "[4]\ttrain-rmse:1.25504\ttest-rmse:1.30455\n",
      "[5]\ttrain-rmse:0.978836\ttest-rmse:1.06118\n",
      "[6]\ttrain-rmse:0.774654\ttest-rmse:0.895153\n",
      "[7]\ttrain-rmse:0.623604\ttest-rmse:0.789882\n",
      "[8]\ttrain-rmse:0.511806\ttest-rmse:0.721311\n",
      "[9]\ttrain-rmse:0.428649\ttest-rmse:0.680478\n",
      "[0]\ttrain-rmse:3.24575\ttest-rmse:3.25036\n",
      "Multiple eval metrics have been passed: 'test-rmse' will be used for early stopping.\n",
      "\n",
      "Will train until test-rmse hasn't improved in 3 rounds.\n",
      "[1]\ttrain-rmse:2.06011\ttest-rmse:2.0747\n",
      "[2]\ttrain-rmse:1.34692\ttest-rmse:1.38659\n",
      "[3]\ttrain-rmse:0.916237\ttest-rmse:1.00947\n",
      "[4]\ttrain-rmse:0.655586\ttest-rmse:0.807398\n",
      "[5]\ttrain-rmse:0.491565\ttest-rmse:0.713105\n",
      "[6]\ttrain-rmse:0.389875\ttest-rmse:0.671342\n",
      "[7]\ttrain-rmse:0.328511\ttest-rmse:0.654424\n",
      "[8]\ttrain-rmse:0.278159\ttest-rmse:0.64256\n",
      "[9]\ttrain-rmse:0.243309\ttest-rmse:0.635982\n",
      "[0]\ttrain-rmse:3.45382\ttest-rmse:3.45771\n",
      "Multiple eval metrics have been passed: 'test-rmse' will be used for early stopping.\n",
      "\n",
      "Will train until test-rmse hasn't improved in 3 rounds.\n",
      "[1]\ttrain-rmse:2.3201\ttest-rmse:2.33038\n",
      "[2]\ttrain-rmse:1.58853\ttest-rmse:1.61597\n",
      "[3]\ttrain-rmse:1.11743\ttest-rmse:1.17553\n",
      "[4]\ttrain-rmse:0.814128\ttest-rmse:0.923002\n",
      "[5]\ttrain-rmse:0.609101\ttest-rmse:0.784267\n",
      "[6]\ttrain-rmse:0.478027\ttest-rmse:0.707174\n",
      "[7]\ttrain-rmse:0.387184\ttest-rmse:0.670904\n",
      "[8]\ttrain-rmse:0.323094\ttest-rmse:0.65287\n",
      "[9]\ttrain-rmse:0.282863\ttest-rmse:0.644218\n",
      "[0]\ttrain-rmse:4.43259\ttest-rmse:4.43384\n",
      "Multiple eval metrics have been passed: 'test-rmse' will be used for early stopping.\n",
      "\n",
      "Will train until test-rmse hasn't improved in 3 rounds.\n",
      "[1]\ttrain-rmse:3.78394\ttest-rmse:3.78816\n",
      "[2]\ttrain-rmse:3.23466\ttest-rmse:3.23958\n",
      "[3]\ttrain-rmse:2.76988\ttest-rmse:2.77794\n",
      "[4]\ttrain-rmse:2.37655\ttest-rmse:2.38724\n",
      "[5]\ttrain-rmse:2.0442\ttest-rmse:2.06196\n",
      "[6]\ttrain-rmse:1.76372\ttest-rmse:1.7877\n",
      "[7]\ttrain-rmse:1.52787\ttest-rmse:1.55985\n",
      "[8]\ttrain-rmse:1.32911\ttest-rmse:1.36911\n",
      "[9]\ttrain-rmse:1.16286\ttest-rmse:1.21484\n",
      "[0]\ttrain-rmse:3.35464\ttest-rmse:3.35886\n",
      "Multiple eval metrics have been passed: 'test-rmse' will be used for early stopping.\n",
      "\n",
      "Will train until test-rmse hasn't improved in 3 rounds.\n",
      "[1]\ttrain-rmse:2.19405\ttest-rmse:2.20412\n",
      "[2]\ttrain-rmse:1.47139\ttest-rmse:1.49817\n",
      "[3]\ttrain-rmse:1.02958\ttest-rmse:1.07932\n",
      "[4]\ttrain-rmse:0.771361\ttest-rmse:0.850273\n",
      "[5]\ttrain-rmse:0.628029\ttest-rmse:0.733537\n",
      "[6]\ttrain-rmse:0.54754\ttest-rmse:0.680015\n",
      "[7]\ttrain-rmse:0.501884\ttest-rmse:0.653329\n",
      "[8]\ttrain-rmse:0.472612\ttest-rmse:0.642546\n",
      "[9]\ttrain-rmse:0.453331\ttest-rmse:0.63867\n",
      "[0]\ttrain-rmse:3.69995\ttest-rmse:3.70308\n",
      "Multiple eval metrics have been passed: 'test-rmse' will be used for early stopping.\n",
      "\n",
      "Will train until test-rmse hasn't improved in 3 rounds.\n",
      "[1]\ttrain-rmse:2.65121\ttest-rmse:2.65893\n",
      "[2]\ttrain-rmse:1.91972\ttest-rmse:1.93825\n",
      "[3]\ttrain-rmse:1.41113\ttest-rmse:1.44794\n",
      "[4]\ttrain-rmse:1.05815\ttest-rmse:1.12052\n",
      "[5]\ttrain-rmse:0.807888\ttest-rmse:0.91743\n",
      "[6]\ttrain-rmse:0.627518\ttest-rmse:0.79252\n",
      "[7]\ttrain-rmse:0.495525\ttest-rmse:0.715432\n",
      "[8]\ttrain-rmse:0.401199\ttest-rmse:0.669157\n",
      "[9]\ttrain-rmse:0.336872\ttest-rmse:0.642885\n",
      "[0]\ttrain-rmse:4.01581\ttest-rmse:4.01806\n",
      "Multiple eval metrics have been passed: 'test-rmse' will be used for early stopping.\n",
      "\n",
      "Will train until test-rmse hasn't improved in 3 rounds.\n",
      "[1]\ttrain-rmse:3.11274\ttest-rmse:3.11747\n",
      "[2]\ttrain-rmse:2.42424\ttest-rmse:2.43309\n",
      "[3]\ttrain-rmse:1.90055\ttest-rmse:1.92072\n",
      "[4]\ttrain-rmse:1.50364\ttest-rmse:1.53818\n",
      "[5]\ttrain-rmse:1.202\ttest-rmse:1.2578\n",
      "[6]\ttrain-rmse:0.97329\ttest-rmse:1.05217\n",
      "[7]\ttrain-rmse:0.799765\ttest-rmse:0.908733\n",
      "[8]\ttrain-rmse:0.666942\ttest-rmse:0.811877\n",
      "[9]\ttrain-rmse:0.567365\ttest-rmse:0.743721\n",
      "[0]\ttrain-rmse:3.00185\ttest-rmse:3.00741\n",
      "Multiple eval metrics have been passed: 'test-rmse' will be used for early stopping.\n",
      "\n",
      "Will train until test-rmse hasn't improved in 3 rounds.\n",
      "[1]\ttrain-rmse:1.77919\ttest-rmse:1.79494\n",
      "[2]\ttrain-rmse:1.10451\ttest-rmse:1.16445\n",
      "[3]\ttrain-rmse:0.730882\ttest-rmse:0.859605\n",
      "[4]\ttrain-rmse:0.51919\ttest-rmse:0.725255\n",
      "[5]\ttrain-rmse:0.390325\ttest-rmse:0.671831\n",
      "[6]\ttrain-rmse:0.316659\ttest-rmse:0.651711\n",
      "[7]\ttrain-rmse:0.263119\ttest-rmse:0.645844\n",
      "[8]\ttrain-rmse:0.227519\ttest-rmse:0.643458\n",
      "[9]\ttrain-rmse:0.200742\ttest-rmse:0.643338\n",
      "[0]\ttrain-rmse:2.81322\ttest-rmse:2.81961\n",
      "Multiple eval metrics have been passed: 'test-rmse' will be used for early stopping.\n",
      "\n",
      "Will train until test-rmse hasn't improved in 3 rounds.\n",
      "[1]\ttrain-rmse:1.58084\ttest-rmse:1.59601\n",
      "[2]\ttrain-rmse:0.966973\ttest-rmse:1.00829\n",
      "[3]\ttrain-rmse:0.682723\ttest-rmse:0.764779\n",
      "[4]\ttrain-rmse:0.560358\ttest-rmse:0.678585\n",
      "[5]\ttrain-rmse:0.506153\ttest-rmse:0.647214\n",
      "[6]\ttrain-rmse:0.480679\ttest-rmse:0.640705\n",
      "[7]\ttrain-rmse:0.461013\ttest-rmse:0.64181\n",
      "[8]\ttrain-rmse:0.442266\ttest-rmse:0.641792\n",
      "[9]\ttrain-rmse:0.430313\ttest-rmse:0.643934\n",
      "Stopping. Best iteration:\n",
      "[6]\ttrain-rmse:0.480679+0.00358902\ttest-rmse:0.640705+0.00570416\n",
      "\n",
      "[0]\ttrain-rmse:3.20877\ttest-rmse:3.21352\n",
      "Multiple eval metrics have been passed: 'test-rmse' will be used for early stopping.\n",
      "\n",
      "Will train until test-rmse hasn't improved in 3 rounds.\n",
      "[1]\ttrain-rmse:2.01585\ttest-rmse:2.03087\n",
      "[2]\ttrain-rmse:1.30691\ttest-rmse:1.35239\n",
      "[3]\ttrain-rmse:0.883576\ttest-rmse:0.981657\n",
      "[4]\ttrain-rmse:0.626889\ttest-rmse:0.795561\n",
      "[5]\ttrain-rmse:0.464087\ttest-rmse:0.715322\n",
      "[6]\ttrain-rmse:0.358851\ttest-rmse:0.67757\n",
      "[7]\ttrain-rmse:0.28872\ttest-rmse:0.659996\n",
      "[8]\ttrain-rmse:0.239884\ttest-rmse:0.65276\n",
      "[9]\ttrain-rmse:0.208422\ttest-rmse:0.648053\n",
      "[0]\ttrain-rmse:4.36552\ttest-rmse:4.36692\n",
      "Multiple eval metrics have been passed: 'test-rmse' will be used for early stopping.\n",
      "\n",
      "Will train until test-rmse hasn't improved in 3 rounds.\n",
      "[1]\ttrain-rmse:3.67121\ttest-rmse:3.67639\n",
      "[2]\ttrain-rmse:3.09268\ttest-rmse:3.09985\n",
      "[3]\ttrain-rmse:2.61086\ttest-rmse:2.61916\n",
      "[4]\ttrain-rmse:2.21021\ttest-rmse:2.22244\n",
      "[5]\ttrain-rmse:1.87722\ttest-rmse:1.89592\n",
      "[6]\ttrain-rmse:1.60128\ttest-rmse:1.62749\n",
      "[7]\ttrain-rmse:1.37293\ttest-rmse:1.41102\n",
      "[8]\ttrain-rmse:1.18441\ttest-rmse:1.2351\n",
      "[9]\ttrain-rmse:1.02914\ttest-rmse:1.09548\n",
      "[0]\ttrain-rmse:3.77174\ttest-rmse:3.77466\n",
      "Multiple eval metrics have been passed: 'test-rmse' will be used for early stopping.\n",
      "\n",
      "Will train until test-rmse hasn't improved in 3 rounds.\n",
      "[1]\ttrain-rmse:2.75267\ttest-rmse:2.75805\n",
      "[2]\ttrain-rmse:2.02715\ttest-rmse:2.04176\n",
      "[3]\ttrain-rmse:1.51465\ttest-rmse:1.54073\n",
      "[4]\ttrain-rmse:1.1566\ttest-rmse:1.19864\n",
      "[5]\ttrain-rmse:0.910024\ttest-rmse:0.972634\n",
      "[6]\ttrain-rmse:0.744308\ttest-rmse:0.831617\n",
      "[7]\ttrain-rmse:0.636644\ttest-rmse:0.747397\n",
      "[8]\ttrain-rmse:0.565656\ttest-rmse:0.696681\n",
      "[9]\ttrain-rmse:0.519618\ttest-rmse:0.666869\n",
      "[0]\ttrain-rmse:5.16452\ttest-rmse:5.1643\n",
      "Multiple eval metrics have been passed: 'test-rmse' will be used for early stopping.\n",
      "\n",
      "Will train until test-rmse hasn't improved in 3 rounds.\n",
      "[1]\ttrain-rmse:5.13134\ttest-rmse:5.13118\n",
      "[2]\ttrain-rmse:5.09837\ttest-rmse:5.09828\n",
      "[3]\ttrain-rmse:5.06563\ttest-rmse:5.06564\n",
      "[4]\ttrain-rmse:5.03311\ttest-rmse:5.03319\n",
      "[5]\ttrain-rmse:5.0008\ttest-rmse:5.00099\n",
      "[6]\ttrain-rmse:4.96871\ttest-rmse:4.96897\n",
      "[7]\ttrain-rmse:4.93683\ttest-rmse:4.93718\n"
     ]
    },
    {
     "name": "stdout",
     "output_type": "stream",
     "text": [
      "[8]\ttrain-rmse:4.90516\ttest-rmse:4.90558\n",
      "[9]\ttrain-rmse:4.8737\ttest-rmse:4.87418\n",
      "[0]\ttrain-rmse:3.55544\ttest-rmse:3.559\n",
      "Multiple eval metrics have been passed: 'test-rmse' will be used for early stopping.\n",
      "\n",
      "Will train until test-rmse hasn't improved in 3 rounds.\n",
      "[1]\ttrain-rmse:2.45357\ttest-rmse:2.46259\n",
      "[2]\ttrain-rmse:1.71911\ttest-rmse:1.74023\n",
      "[3]\ttrain-rmse:1.23187\ttest-rmse:1.27387\n",
      "[4]\ttrain-rmse:0.910121\ttest-rmse:0.986465\n",
      "[5]\ttrain-rmse:0.692926\ttest-rmse:0.82202\n",
      "[6]\ttrain-rmse:0.550984\ttest-rmse:0.726877\n",
      "[7]\ttrain-rmse:0.454897\ttest-rmse:0.678742\n",
      "[8]\ttrain-rmse:0.386118\ttest-rmse:0.65006\n",
      "[9]\ttrain-rmse:0.339619\ttest-rmse:0.636732\n",
      "[0]\ttrain-rmse:4.62743\ttest-rmse:4.62825\n",
      "Multiple eval metrics have been passed: 'test-rmse' will be used for early stopping.\n",
      "\n",
      "Will train until test-rmse hasn't improved in 3 rounds.\n",
      "[1]\ttrain-rmse:4.12173\ttest-rmse:4.12443\n",
      "[2]\ttrain-rmse:3.67366\ttest-rmse:3.67758\n",
      "[3]\ttrain-rmse:3.2766\ttest-rmse:3.28032\n",
      "[4]\ttrain-rmse:2.92494\ttest-rmse:2.93085\n",
      "[5]\ttrain-rmse:2.61381\ttest-rmse:2.62208\n",
      "[6]\ttrain-rmse:2.3384\ttest-rmse:2.34936\n",
      "[7]\ttrain-rmse:2.0947\ttest-rmse:2.11003\n",
      "[8]\ttrain-rmse:1.87905\ttest-rmse:1.89859\n",
      "[9]\ttrain-rmse:1.68864\ttest-rmse:1.71496\n",
      "[0]\ttrain-rmse:3.14894\ttest-rmse:3.15391\n",
      "Multiple eval metrics have been passed: 'test-rmse' will be used for early stopping.\n",
      "\n",
      "Will train until test-rmse hasn't improved in 3 rounds.\n",
      "[1]\ttrain-rmse:1.94566\ttest-rmse:1.95943\n",
      "[2]\ttrain-rmse:1.24994\ttest-rmse:1.28369\n",
      "[3]\ttrain-rmse:0.863806\ttest-rmse:0.925639\n",
      "[4]\ttrain-rmse:0.661397\ttest-rmse:0.757487\n",
      "[5]\ttrain-rmse:0.55733\ttest-rmse:0.683789\n",
      "[6]\ttrain-rmse:0.50271\ttest-rmse:0.648743\n",
      "[7]\ttrain-rmse:0.473899\ttest-rmse:0.637235\n",
      "[8]\ttrain-rmse:0.452791\ttest-rmse:0.632688\n",
      "[9]\ttrain-rmse:0.438784\ttest-rmse:0.631443\n",
      "[0]\ttrain-rmse:3.19361\ttest-rmse:3.19842\n",
      "Multiple eval metrics have been passed: 'test-rmse' will be used for early stopping.\n",
      "\n",
      "Will train until test-rmse hasn't improved in 3 rounds.\n",
      "[1]\ttrain-rmse:1.99819\ttest-rmse:2.01174\n",
      "[2]\ttrain-rmse:1.29626\ttest-rmse:1.32703\n",
      "[3]\ttrain-rmse:0.896096\ttest-rmse:0.956797\n",
      "[4]\ttrain-rmse:0.679221\ttest-rmse:0.770832\n",
      "[5]\ttrain-rmse:0.56846\ttest-rmse:0.693149\n",
      "[6]\ttrain-rmse:0.513193\ttest-rmse:0.662179\n",
      "[7]\ttrain-rmse:0.481145\ttest-rmse:0.647241\n",
      "[8]\ttrain-rmse:0.460291\ttest-rmse:0.641293\n",
      "[9]\ttrain-rmse:0.439816\ttest-rmse:0.637579\n",
      "[0]\ttrain-rmse:2.79094\ttest-rmse:2.79744\n",
      "Multiple eval metrics have been passed: 'test-rmse' will be used for early stopping.\n",
      "\n",
      "Will train until test-rmse hasn't improved in 3 rounds.\n",
      "[1]\ttrain-rmse:1.55843\ttest-rmse:1.57383\n",
      "[2]\ttrain-rmse:0.950572\ttest-rmse:0.995869\n",
      "[3]\ttrain-rmse:0.673814\ttest-rmse:0.754452\n",
      "[4]\ttrain-rmse:0.556034\ttest-rmse:0.673825\n",
      "[5]\ttrain-rmse:0.500871\ttest-rmse:0.651024\n",
      "[6]\ttrain-rmse:0.472536\ttest-rmse:0.644121\n",
      "[7]\ttrain-rmse:0.451638\ttest-rmse:0.6447\n",
      "[8]\ttrain-rmse:0.436907\ttest-rmse:0.642679\n",
      "[9]\ttrain-rmse:0.424797\ttest-rmse:0.642313\n",
      "[0]\ttrain-rmse:3.0532\ttest-rmse:3.05855\n",
      "Multiple eval metrics have been passed: 'test-rmse' will be used for early stopping.\n",
      "\n",
      "Will train until test-rmse hasn't improved in 3 rounds.\n",
      "[1]\ttrain-rmse:1.83685\ttest-rmse:1.84847\n",
      "[2]\ttrain-rmse:1.1608\ttest-rmse:1.19472\n",
      "[3]\ttrain-rmse:0.802395\ttest-rmse:0.867953\n",
      "[4]\ttrain-rmse:0.622974\ttest-rmse:0.726004\n",
      "[5]\ttrain-rmse:0.537125\ttest-rmse:0.669749\n",
      "[6]\ttrain-rmse:0.495037\ttest-rmse:0.646889\n",
      "[7]\ttrain-rmse:0.470346\ttest-rmse:0.637987\n",
      "[8]\ttrain-rmse:0.45072\ttest-rmse:0.638451\n",
      "[9]\ttrain-rmse:0.436535\ttest-rmse:0.635681\n",
      "\n",
      "展示hyperopt获取的最佳结果，但是要注意的是我们对hyperopt最初的取值范围做过一次转换\n",
      "{'learning_rate': 0.41259684270951374, 'max_depth': 0}\n"
     ]
    }
   ],
   "source": [
    "from numpy.random import RandomState\n",
    "\n",
    "params_space = {\n",
    "    'max_depth': hyperopt.hp.randint('max_depth', 6),\n",
    "    'learning_rate': hyperopt.hp.uniform('learning_rate', 1e-3, 5e-1),\n",
    "}\n",
    "\n",
    "trials = hyperopt.Trials()\n",
    "\n",
    "best = hyperopt.fmin(\n",
    "    hyperopt_objective,\n",
    "    space=params_space,\n",
    "    algo=hyperopt.tpe.suggest,\n",
    "    max_evals=50,\n",
    "    trials=trials,\n",
    "    rstate=RandomState(123)\n",
    ")\n",
    "\n",
    "print(\"\\n展示hyperopt获取的最佳结果，但是要注意的是我们对hyperopt最初的取值范围做过一次转换\")\n",
    "print(best)"
   ]
  },
  {
   "cell_type": "markdown",
   "metadata": {},
   "source": [
    "### 使用sklearn进行交叉验证\n",
    "\n",
    "这里要注意的是运算速度上也是有一定差距的。而且可能很大。"
   ]
  },
  {
   "cell_type": "code",
   "execution_count": 27,
   "metadata": {
    "ExecuteTime": {
     "end_time": "2018-12-14T06:21:14.930862Z",
     "start_time": "2018-12-14T06:21:14.921565Z"
    }
   },
   "outputs": [],
   "source": [
    "def XGBRegressor_CV(params):\n",
    "    from sklearn.model_selection import cross_val_score\n",
    "    \n",
    "    model = xgb.XGBRegressor(\n",
    "        max_depth=int(params['max_depth'])+5,\n",
    "        learning_rate=params['learning_rate'],\n",
    "        silent=1,\n",
    "        objective='reg:linear',\n",
    "        eval_metric='rmse',\n",
    "        seed=619,\n",
    "        nthread=-1,\n",
    "        early_stopping_rounds=3\n",
    "    )\n",
    "\n",
    "#     x_train, x_predict, y_train, y_predict\n",
    "    metric = cross_val_score(model, x_train, y_train, cv=5, scoring=\"neg_mean_squared_error\")\n",
    "\n",
    "    return min(-metric)"
   ]
  },
  {
   "cell_type": "code",
   "execution_count": 28,
   "metadata": {
    "ExecuteTime": {
     "end_time": "2018-12-14T06:21:40.596069Z",
     "start_time": "2018-12-14T06:21:15.277735Z"
    },
    "code_folding": []
   },
   "outputs": [
    {
     "name": "stdout",
     "output_type": "stream",
     "text": [
      "\n",
      "展示hyperopt获取的最佳结果，但是要注意的是我们对hyperopt最初的取值范围做过一次转换\n",
      "{'learning_rate': 0.042355077979416025, 'max_depth': 5}\n"
     ]
    }
   ],
   "source": [
    "trials_2 = hyperopt.Trials()\n",
    "\n",
    "best_2 = hyperopt.fmin(\n",
    "    XGBRegressor_CV,\n",
    "    space=params_space,\n",
    "    algo=hyperopt.tpe.suggest,\n",
    "    max_evals=50,\n",
    "    trials=trials_2,\n",
    "    rstate=RandomState(123)\n",
    ")\n",
    "\n",
    "print(\"\\n展示hyperopt获取的最佳结果，但是要注意的是我们对hyperopt最初的取值范围做过一次转换\")\n",
    "print(best_2)"
   ]
  },
  {
   "cell_type": "code",
   "execution_count": null,
   "metadata": {},
   "outputs": [],
   "source": []
  }
 ],
 "metadata": {
  "hide_input": false,
  "kernelspec": {
   "display_name": "Python 3",
   "language": "python",
   "name": "python3"
  },
  "language_info": {
   "codemirror_mode": {
    "name": "ipython",
    "version": 3
   },
   "file_extension": ".py",
   "mimetype": "text/x-python",
   "name": "python",
   "nbconvert_exporter": "python",
   "pygments_lexer": "ipython3",
   "version": "3.6.5"
  },
  "toc": {
   "base_numbering": 1,
   "nav_menu": {},
   "number_sections": true,
   "sideBar": true,
   "skip_h1_title": false,
   "title_cell": "Table of Contents",
   "title_sidebar": "Contents",
   "toc_cell": false,
   "toc_position": {},
   "toc_section_display": true,
   "toc_window_display": false
  }
 },
 "nbformat": 4,
 "nbformat_minor": 2
}
