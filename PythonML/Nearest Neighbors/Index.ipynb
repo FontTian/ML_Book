{
 "cells": [
  {
   "cell_type": "markdown",
   "metadata": {},
   "source": [
    "### KNeighborsClassifier\n",
    "最近邻分类器\n",
    "\n",
    "**参数**:\n",
    " - n_neighbors:int,default=5;用于计算的另邻近样本数量\n",
    " - weights:{‘uniform’, ‘distance’} ,default=\"uniform\";预测中的权重,\"uniform\":均匀的权重;\"distance\":权重点按其距离的倒数表示\n",
    " - algorithm:{‘auto’, ‘ball_tree’, ‘kd_tree’, ‘brute’}, default=’auto’;用于计算最最近邻的算法;\"auto\"自动;\"kd_tree\",KDTree;\"ball_True\",BallTree;\"brute\",暴力搜索\n",
    " - leaf_size:int, default=30;叶大小传递给BallTree或KDTree。这会影响构造和查询的速度，以及存储树所需的内存。最佳值取决于问题的性质。\n",
    " - p:int, default=2;Minkowski指标的功率参数。当p = 1时，这等效于对p = 2使用manhattan_distance（l1）和euclidean_distance（l2）。对于任意p，使用minkowski_distance（l_p）。\n",
    " - metric:str or callable, default=’minkowski’;树使用的距离度量。默认度量标准为minkowski，p = 2等于标准欧几里德度量标准。\n",
    " - metric_params:dict, default=None;度量功能的其他关键字参数。\n",
    " - n_jobs:int, default=None;为邻居搜索运行的并行作业数。-1表示全部,但是可能会影响可视化编程的监控程序\n",
    " \n",
    "距离度量:[https://scikit-learn.org/stable/modules/generated/sklearn.neighbors.DistanceMetric.html#sklearn.neighbors.DistanceMetric](https://scikit-learn.org/stable/modules/generated/sklearn.neighbors.DistanceMetric.html#sklearn.neighbors.DistanceMetric)"
   ]
  },
  {
   "cell_type": "code",
   "execution_count": 1,
   "metadata": {},
   "outputs": [
    {
     "data": {
      "text/plain": [
       "KNeighborsClassifier(algorithm='auto', leaf_size=30, metric='minkowski',\n",
       "                     metric_params=None, n_jobs=None, n_neighbors=3, p=2,\n",
       "                     weights='uniform')"
      ]
     },
     "execution_count": 1,
     "metadata": {},
     "output_type": "execute_result"
    }
   ],
   "source": [
    "X = [[0], [1], [2], [3]]\n",
    "y = [0, 0, 1, 1]\n",
    "from sklearn.neighbors import KNeighborsClassifier\n",
    "neigh = KNeighborsClassifier(n_neighbors=3)\n",
    "neigh.fit(X, y)"
   ]
  },
  {
   "cell_type": "code",
   "execution_count": 2,
   "metadata": {},
   "outputs": [
    {
     "name": "stdout",
     "output_type": "stream",
     "text": [
      "[0]\n"
     ]
    }
   ],
   "source": [
    "print(neigh.predict([[1.1]]))"
   ]
  },
  {
   "cell_type": "code",
   "execution_count": 3,
   "metadata": {},
   "outputs": [
    {
     "name": "stdout",
     "output_type": "stream",
     "text": [
      "[[0.66666667 0.33333333]]\n"
     ]
    }
   ],
   "source": [
    "print(neigh.predict_proba([[0.9]]))"
   ]
  },
  {
   "cell_type": "markdown",
   "metadata": {},
   "source": [
    "### KNeighborsRegressor\n",
    "基于k最近邻的回归。\n",
    "\n",
    "通过对训练集中最近邻居的相关目标进行局部插值来预测目标。\n",
    "\n",
    "**参数**:\n",
    " - n_neighbors:int,default=5;用于计算的另邻近样本数量\n",
    " - weights:{‘uniform’, ‘distance’} ,default=\"uniform\";预测中的权重,\"uniform\":均匀的权重;\"distance\":权重点按其距离的倒数表示\n",
    " - algorithm:{‘auto’, ‘ball_tree’, ‘kd_tree’, ‘brute’}, default=’auto’;用于计算最最近邻的算法;\"auto\"自动;\"kd_tree\",KDTree;\"ball_True\",BallTree;\"brute\",暴力搜索\n",
    " - leaf_size:int, default=30;叶大小传递给BallTree或KDTree。这会影响构造和查询的速度，以及存储树所需的内存。最佳值取决于问题的性质。\n",
    " - p:int, default=2;Minkowski指标的功率参数。当p = 1时，这等效于对p = 2使用manhattan_distance（l1）和euclidean_distance（l2）。对于任意p，使用minkowski_distance（l_p）。\n",
    " - metric:str or callable, default=’minkowski’;树使用的距离度量。默认度量标准为minkowski，p = 2等于标准欧几里德度量标准。\n",
    " - metric_params:dict, default=None;度量功能的其他关键字参数。\n",
    " - n_jobs:int, default=None;为邻居搜索运行的并行作业数。-1表示全部,但是可能会影响可视化编程的监控程序"
   ]
  },
  {
   "cell_type": "code",
   "execution_count": 4,
   "metadata": {},
   "outputs": [
    {
     "data": {
      "text/plain": [
       "KNeighborsRegressor(algorithm='auto', leaf_size=30, metric='minkowski',\n",
       "                    metric_params=None, n_jobs=None, n_neighbors=2, p=2,\n",
       "                    weights='uniform')"
      ]
     },
     "execution_count": 4,
     "metadata": {},
     "output_type": "execute_result"
    }
   ],
   "source": [
    "X = [[0], [1], [2], [3]]\n",
    "y = [0, 0, 1, 1]\n",
    "from sklearn.neighbors import KNeighborsRegressor\n",
    "neigh = KNeighborsRegressor(n_neighbors=2)\n",
    "neigh.fit(X, y)"
   ]
  },
  {
   "cell_type": "code",
   "execution_count": 5,
   "metadata": {},
   "outputs": [
    {
     "name": "stdout",
     "output_type": "stream",
     "text": [
      "[0.5]\n"
     ]
    }
   ],
   "source": [
    "print(neigh.predict([[1.5]]))"
   ]
  },
  {
   "cell_type": "markdown",
   "metadata": {},
   "source": [
    "### NearestCentroid\n",
    "\n",
    "最近的质心分类器。\n",
    "\n",
    "每个类别均以其质心表示，测试样本被分类为具有最接近质心的类别\n",
    "\n",
    " - metric:str or callable;距离度量,\"precomputed\"已弃用\n",
    " - rinkle_threshold:default=None,float;缩小质心以删除特征的阈值。"
   ]
  },
  {
   "cell_type": "code",
   "execution_count": 1,
   "metadata": {},
   "outputs": [
    {
     "name": "stdout",
     "output_type": "stream",
     "text": [
      "[1]\n"
     ]
    }
   ],
   "source": [
    "from sklearn.neighbors import NearestCentroid\n",
    "import numpy as np\n",
    "X = np.array([[-1, -1], [-2, -1], [-3, -2], [1, 1], [2, 1], [3, 2]])\n",
    "y = np.array([1, 1, 1, 2, 2, 2])\n",
    "clf = NearestCentroid()\n",
    "clf.fit(X, y)\n",
    "\n",
    "print(clf.predict([[-0.8, -1]]))"
   ]
  },
  {
   "cell_type": "markdown",
   "metadata": {},
   "source": [
    "### 最近质心回归\n",
    "基于固定半径内的邻居的回归。\n",
    "\n",
    "通过对训练集中最近邻居的相关目标进行局部插值来预测目标。\n",
    "**参数**:\n",
    " - radius:float, default=1.0;默认情况下用于unadius_neighbors查询的参数空间\n",
    " - weights::{‘uniform’, ‘distance’} ,default=\"uniform\";预测中的权重,\"uniform\":均匀的权重;\"distance\":权重点按其距离的倒数表示\n",
    " - algorithm:{‘auto’, ‘ball_tree’, ‘kd_tree’, ‘brute’}, default=’auto’;用于计算最最近邻的算法;\"auto\"自动;\"kd_tree\",KDTree;\"ball_True\",BallTree;\"brute\",暴力搜索\n",
    " - leaf_size:int, default=30;叶大小传递给BallTree或KDTree。这会影响构造和查询的速度，以及存储树所需的内存。最佳值取决于问题的性质。\n",
    " - p:int, default=2;Minkowski指标的功率参数。当p = 1时，这等效于对p = 2使用manhattan_distance（l1）和euclidean_distance（l2）。对于任意p，使用minkowski_distance（l_p）。\n",
    " - metric:str or callable, default=’minkowski’;树使用的距离度量。默认度量标准为minkowski，p = 2等于标准欧几里德度量标准。\n",
    " - metric_params:dict, default=None;度量功能的其他关键字参数。\n",
    " - n_jobs:int, default=None;为邻居搜索运行的并行作业数。-1表示全部,但是可能会影响可视化编程的监控程序"
   ]
  },
  {
   "cell_type": "code",
   "execution_count": 2,
   "metadata": {},
   "outputs": [
    {
     "name": "stdout",
     "output_type": "stream",
     "text": [
      "[0.5]\n"
     ]
    }
   ],
   "source": [
    "X = [[0], [1], [2], [3]]\n",
    "y = [0, 0, 1, 1]\n",
    "from sklearn.neighbors import RadiusNeighborsRegressor\n",
    "neigh = RadiusNeighborsRegressor(radius=1.0)\n",
    "neigh.fit(X, y)\n",
    "\n",
    "print(neigh.predict([[1.5]]))"
   ]
  },
  {
   "cell_type": "code",
   "execution_count": null,
   "metadata": {},
   "outputs": [],
   "source": []
  }
 ],
 "metadata": {
  "kernelspec": {
   "display_name": "Python 3",
   "language": "python",
   "name": "python3"
  },
  "language_info": {
   "codemirror_mode": {
    "name": "ipython",
    "version": 3
   },
   "file_extension": ".py",
   "mimetype": "text/x-python",
   "name": "python",
   "nbconvert_exporter": "python",
   "pygments_lexer": "ipython3",
   "version": "3.8.3"
  }
 },
 "nbformat": 4,
 "nbformat_minor": 4
}
